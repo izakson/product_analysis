{
 "cells": [
  {
   "cell_type": "markdown",
   "id": "744a6529",
   "metadata": {},
   "source": [
    "# Исследование эффективности дежурных операторов\n",
    "\n",
    "В данном исследовании мы сравним эффективность работы дежурных операторов и терапевтов под запись в Виртуальной Клинике. Гипотеза: их эффективность примерно одинакова."
   ]
  },
  {
   "cell_type": "markdown",
   "id": "9493efbf",
   "metadata": {},
   "source": [
    "## Изучение данных\n",
    "\n",
    "Для изучения есть два представления:\n",
    "- `medical_telemed_case` - медицинские кейсы\n",
    "- `medical_telemed_case_records` - услуги в медицинских кейсах\n",
    "\n",
    "Для анализа мы соберём следующие два датасета:\n",
    "- Онлайн-кейсы - кейсы категории \"Телемед кейс\" по врачам \"Врач общей практики\" или \"Терапевт\", отбросим кейсы \"только спросить\" и пациентов, у которых в программе только телемед, т.к. они помешают увидеть полную картину.\n",
    "- Оффлайн-кейсы - все остальные кейсы, у которых категория не \"Телемед кейс\".\n",
    "\n",
    "Импортируем библиотеки и загрузим данные."
   ]
  },
  {
   "cell_type": "code",
   "execution_count": 1,
   "id": "8a6afcde",
   "metadata": {},
   "outputs": [],
   "source": [
    "import pandas as pd\n",
    "import matplotlib.pyplot as plt\n",
    "import numpy\n",
    "from scipy import stats as st\n",
    "from sqlalchemy import create_engine "
   ]
  },
  {
   "cell_type": "code",
   "execution_count": 2,
   "id": "d9e0aece",
   "metadata": {},
   "outputs": [],
   "source": [
    "db_config = {\n",
    "    'user': 'user', # имя пользователя\n",
    "    'pwd': 'password', # пароль\n",
    "    'host': 'server_ip',\n",
    "    'port': 1000, # порт подключения\n",
    "    'db': 'db' # название базы данных\n",
    "}  \n",
    "\n",
    "connection_string = 'postgresql://{}:{}@{}:{}/{}'.format(\n",
    "    db_config['user'],\n",
    "    db_config['pwd'],\n",
    "    db_config['host'],\n",
    "    db_config['port'],\n",
    "    db_config['db'],\n",
    ") \n",
    "engine = create_engine(connection_string) "
   ]
  },
  {
   "cell_type": "code",
   "execution_count": 3,
   "id": "2a012180",
   "metadata": {},
   "outputs": [],
   "source": [
    "sql_online = \"\"\"\n",
    "select mtc.unique_case_id,\n",
    "    mtc.patient_id,\n",
    "\tmtc.doctor_specialty_online,\n",
    "\tmtc.start_case,\n",
    "\tmtc.region ,\n",
    "\tmtc.\"Профиль\" as profile,\n",
    "\tmtc.telemed_case_category as category,\n",
    "\tmtc.during_case as duration,\n",
    "\tmtc.sum_case_without_fot as loss,\n",
    "\tcount(case when mtcr.category_title='Телемед консультация' then 1 end) as telemed_cnt,\n",
    "\tcount(case when mtcr.category_title in ('Лабораторные исследования',\n",
    "\t\t\t\t\t\t\t\t\t\t'Инструментальные исследования',\n",
    "\t\t\t\t\t\t\t\t\t\t'Лечебные процедуры и манипуляции',\n",
    "\t\t\t\t\t\t\t\t\t\t'Восстановительная медицина') then 1 end) as analysis_cnt,\n",
    "\tcount(case when mtcr.category_title='Приемы врачей' then 1 end) as offline_cnt,\n",
    "\tcount(case when mtcr.category_title='Вызов врача на дом' then 1 end) as vnd_cnt,\n",
    "\tcount(case when mtcr.category_title in ('Госпитализация','Дневной стационар') then 1 end) as hospital_cnt,\n",
    "\tcount(case when mtcr.category_title is null then 1 end) as unknown_cnt\n",
    "from etl_analytics.medical_telemed_case mtc \n",
    "\tleft join etl_analytics.medical_telemed_case_records mtcr \n",
    "\t\ton mtc.unique_case_id = mtcr.unique_case_id \n",
    "where mtc.case_category = 'Телемед кейс' \n",
    "\tand mtc.doctor_specialty_online in ('Врач общей практики','Терапевт')\n",
    "\tand mtc.is_just_ask_telemed = 0 and mtc.only_telemed_program = 0\n",
    "group by 1,2,3,4,5,6,7,8,9\n",
    "\"\"\""
   ]
  },
  {
   "cell_type": "code",
   "execution_count": 4,
   "id": "61578e9c",
   "metadata": {},
   "outputs": [],
   "source": [
    "sql_offline = \"\"\"select mtc.unique_case_id,\n",
    "    mtc.doctor_specialty_offline,\n",
    "\tmtc.start_case,\n",
    "\tmtc.region ,\n",
    "\tmtc.\"Профиль\" as profile,\n",
    "\tmtc.during_case as duration,\n",
    "\tmtc.sum_case_without_fot as loss\n",
    "from etl_analytics.medical_telemed_case mtc \n",
    "where case_category != 'Телемед кейс' \n",
    "and doctor_specialty_offline = 'Терапевт'\n",
    "or doctor_specialty_offline = 'Врач общей практики'\"\"\""
   ]
  },
  {
   "cell_type": "code",
   "execution_count": 5,
   "id": "5fd2ecbd",
   "metadata": {},
   "outputs": [],
   "source": [
    "data_online = pd.read_sql(sql_online, engine)\n",
    "data_offline = pd.read_sql(sql_offline, engine)"
   ]
  },
  {
   "cell_type": "markdown",
   "id": "47ef6563",
   "metadata": {},
   "source": [
    "Изучим полученные данные."
   ]
  },
  {
   "cell_type": "code",
   "execution_count": 6,
   "id": "7ff225e1",
   "metadata": {},
   "outputs": [
    {
     "data": {
      "text/html": [
       "<div>\n",
       "<style scoped>\n",
       "    .dataframe tbody tr th:only-of-type {\n",
       "        vertical-align: middle;\n",
       "    }\n",
       "\n",
       "    .dataframe tbody tr th {\n",
       "        vertical-align: top;\n",
       "    }\n",
       "\n",
       "    .dataframe thead th {\n",
       "        text-align: right;\n",
       "    }\n",
       "</style>\n",
       "<table border=\"1\" class=\"dataframe\">\n",
       "  <thead>\n",
       "    <tr style=\"text-align: right;\">\n",
       "      <th></th>\n",
       "      <th>unique_case_id</th>\n",
       "      <th>patient_id</th>\n",
       "      <th>doctor_specialty_online</th>\n",
       "      <th>start_case</th>\n",
       "      <th>region</th>\n",
       "      <th>profile</th>\n",
       "      <th>category</th>\n",
       "      <th>duration</th>\n",
       "      <th>loss</th>\n",
       "      <th>telemed_cnt</th>\n",
       "      <th>analysis_cnt</th>\n",
       "      <th>offline_cnt</th>\n",
       "      <th>vnd_cnt</th>\n",
       "      <th>hospital_cnt</th>\n",
       "      <th>unknown_cnt</th>\n",
       "    </tr>\n",
       "  </thead>\n",
       "  <tbody>\n",
       "    <tr>\n",
       "      <th>0</th>\n",
       "      <td>100004&amp;Терапия&amp;Заболевания дыхательных путей&amp;1</td>\n",
       "      <td>100004</td>\n",
       "      <td>Терапевт</td>\n",
       "      <td>2021-12-01</td>\n",
       "      <td>Санкт-Петербург</td>\n",
       "      <td>Терапия</td>\n",
       "      <td>Только телемед без оффлайн</td>\n",
       "      <td>26</td>\n",
       "      <td>0.0</td>\n",
       "      <td>5</td>\n",
       "      <td>0</td>\n",
       "      <td>0</td>\n",
       "      <td>0</td>\n",
       "      <td>0</td>\n",
       "      <td>0</td>\n",
       "    </tr>\n",
       "    <tr>\n",
       "      <th>1</th>\n",
       "      <td>100018&amp;Неврология&amp;Другое и неуточненное (невро...</td>\n",
       "      <td>100018</td>\n",
       "      <td>Врач общей практики</td>\n",
       "      <td>2021-12-06</td>\n",
       "      <td>Санкт-Петербург</td>\n",
       "      <td>Неврология</td>\n",
       "      <td>Только телемед без оффлайн</td>\n",
       "      <td>1</td>\n",
       "      <td>0.0</td>\n",
       "      <td>1</td>\n",
       "      <td>0</td>\n",
       "      <td>0</td>\n",
       "      <td>0</td>\n",
       "      <td>0</td>\n",
       "      <td>0</td>\n",
       "    </tr>\n",
       "    <tr>\n",
       "      <th>2</th>\n",
       "      <td>100046&amp;Травматология&amp;0</td>\n",
       "      <td>100046</td>\n",
       "      <td>Врач общей практики</td>\n",
       "      <td>2022-04-19</td>\n",
       "      <td>Регионы</td>\n",
       "      <td>Травматология</td>\n",
       "      <td>Телемед+оффлайн прием</td>\n",
       "      <td>38</td>\n",
       "      <td>2766.0</td>\n",
       "      <td>3</td>\n",
       "      <td>0</td>\n",
       "      <td>1</td>\n",
       "      <td>0</td>\n",
       "      <td>0</td>\n",
       "      <td>1</td>\n",
       "    </tr>\n",
       "    <tr>\n",
       "      <th>3</th>\n",
       "      <td>100049&amp;Терапия&amp;Заболевания дыхательных путей&amp;0</td>\n",
       "      <td>100049</td>\n",
       "      <td>Терапевт</td>\n",
       "      <td>2021-01-12</td>\n",
       "      <td>Регионы</td>\n",
       "      <td>Терапия</td>\n",
       "      <td>Только телемед без оффлайн</td>\n",
       "      <td>7</td>\n",
       "      <td>0.0</td>\n",
       "      <td>3</td>\n",
       "      <td>0</td>\n",
       "      <td>0</td>\n",
       "      <td>0</td>\n",
       "      <td>0</td>\n",
       "      <td>0</td>\n",
       "    </tr>\n",
       "    <tr>\n",
       "      <th>4</th>\n",
       "      <td>100078&amp;Инфекции&amp;0</td>\n",
       "      <td>100078</td>\n",
       "      <td>Врач общей практики</td>\n",
       "      <td>2021-10-17</td>\n",
       "      <td>Москва</td>\n",
       "      <td>Инфекции</td>\n",
       "      <td>Только телемед без оффлайн</td>\n",
       "      <td>1</td>\n",
       "      <td>0.0</td>\n",
       "      <td>1</td>\n",
       "      <td>0</td>\n",
       "      <td>0</td>\n",
       "      <td>0</td>\n",
       "      <td>0</td>\n",
       "      <td>0</td>\n",
       "    </tr>\n",
       "  </tbody>\n",
       "</table>\n",
       "</div>"
      ],
      "text/plain": [
       "                                      unique_case_id  patient_id  \\\n",
       "0     100004&Терапия&Заболевания дыхательных путей&1      100004   \n",
       "1  100018&Неврология&Другое и неуточненное (невро...      100018   \n",
       "2                             100046&Травматология&0      100046   \n",
       "3     100049&Терапия&Заболевания дыхательных путей&0      100049   \n",
       "4                                  100078&Инфекции&0      100078   \n",
       "\n",
       "  doctor_specialty_online  start_case           region        profile  \\\n",
       "0                Терапевт  2021-12-01  Санкт-Петербург        Терапия   \n",
       "1     Врач общей практики  2021-12-06  Санкт-Петербург     Неврология   \n",
       "2     Врач общей практики  2022-04-19          Регионы  Травматология   \n",
       "3                Терапевт  2021-01-12          Регионы        Терапия   \n",
       "4     Врач общей практики  2021-10-17           Москва       Инфекции   \n",
       "\n",
       "                     category  duration    loss  telemed_cnt  analysis_cnt  \\\n",
       "0  Только телемед без оффлайн        26     0.0            5             0   \n",
       "1  Только телемед без оффлайн         1     0.0            1             0   \n",
       "2       Телемед+оффлайн прием        38  2766.0            3             0   \n",
       "3  Только телемед без оффлайн         7     0.0            3             0   \n",
       "4  Только телемед без оффлайн         1     0.0            1             0   \n",
       "\n",
       "   offline_cnt  vnd_cnt  hospital_cnt  unknown_cnt  \n",
       "0            0        0             0            0  \n",
       "1            0        0             0            0  \n",
       "2            1        0             0            1  \n",
       "3            0        0             0            0  \n",
       "4            0        0             0            0  "
      ]
     },
     "execution_count": 6,
     "metadata": {},
     "output_type": "execute_result"
    }
   ],
   "source": [
    "data_online.head()"
   ]
  },
  {
   "cell_type": "code",
   "execution_count": 7,
   "id": "659ecab9",
   "metadata": {},
   "outputs": [
    {
     "data": {
      "text/html": [
       "<div>\n",
       "<style scoped>\n",
       "    .dataframe tbody tr th:only-of-type {\n",
       "        vertical-align: middle;\n",
       "    }\n",
       "\n",
       "    .dataframe tbody tr th {\n",
       "        vertical-align: top;\n",
       "    }\n",
       "\n",
       "    .dataframe thead th {\n",
       "        text-align: right;\n",
       "    }\n",
       "</style>\n",
       "<table border=\"1\" class=\"dataframe\">\n",
       "  <thead>\n",
       "    <tr style=\"text-align: right;\">\n",
       "      <th></th>\n",
       "      <th>unique_case_id</th>\n",
       "      <th>doctor_specialty_offline</th>\n",
       "      <th>start_case</th>\n",
       "      <th>region</th>\n",
       "      <th>profile</th>\n",
       "      <th>duration</th>\n",
       "      <th>loss</th>\n",
       "    </tr>\n",
       "  </thead>\n",
       "  <tbody>\n",
       "    <tr>\n",
       "      <th>0</th>\n",
       "      <td>100000&amp;&amp;0</td>\n",
       "      <td>Терапевт</td>\n",
       "      <td>2022-04-15</td>\n",
       "      <td>Регионы</td>\n",
       "      <td>None</td>\n",
       "      <td>5</td>\n",
       "      <td>1300.0</td>\n",
       "    </tr>\n",
       "    <tr>\n",
       "      <th>1</th>\n",
       "      <td>100004&amp;Терапия&amp;Заболевания дыхательных путей&amp;0</td>\n",
       "      <td>Терапевт</td>\n",
       "      <td>2021-11-01</td>\n",
       "      <td>Санкт-Петербург</td>\n",
       "      <td>Терапия</td>\n",
       "      <td>9</td>\n",
       "      <td>4655.0</td>\n",
       "    </tr>\n",
       "    <tr>\n",
       "      <th>2</th>\n",
       "      <td>100004&amp;Терапия&amp;Заболевания дыхательных путей&amp;2</td>\n",
       "      <td>Терапевт</td>\n",
       "      <td>2022-02-25</td>\n",
       "      <td>Санкт-Петербург</td>\n",
       "      <td>Терапия</td>\n",
       "      <td>1</td>\n",
       "      <td>1425.0</td>\n",
       "    </tr>\n",
       "    <tr>\n",
       "      <th>3</th>\n",
       "      <td>100004&amp;Терапия&amp;Заболевания дыхательных путей&amp;3</td>\n",
       "      <td>Терапевт</td>\n",
       "      <td>2022-06-08</td>\n",
       "      <td>Санкт-Петербург</td>\n",
       "      <td>Терапия</td>\n",
       "      <td>15</td>\n",
       "      <td>5415.0</td>\n",
       "    </tr>\n",
       "    <tr>\n",
       "      <th>4</th>\n",
       "      <td>100004&amp;Терапия&amp;Профилактика&amp;0</td>\n",
       "      <td>Терапевт</td>\n",
       "      <td>2021-07-13</td>\n",
       "      <td>Санкт-Петербург</td>\n",
       "      <td>Терапия</td>\n",
       "      <td>1</td>\n",
       "      <td>800.0</td>\n",
       "    </tr>\n",
       "  </tbody>\n",
       "</table>\n",
       "</div>"
      ],
      "text/plain": [
       "                                   unique_case_id doctor_specialty_offline  \\\n",
       "0                                       100000&&0                 Терапевт   \n",
       "1  100004&Терапия&Заболевания дыхательных путей&0                 Терапевт   \n",
       "2  100004&Терапия&Заболевания дыхательных путей&2                 Терапевт   \n",
       "3  100004&Терапия&Заболевания дыхательных путей&3                 Терапевт   \n",
       "4                   100004&Терапия&Профилактика&0                 Терапевт   \n",
       "\n",
       "   start_case           region  profile  duration    loss  \n",
       "0  2022-04-15          Регионы     None         5  1300.0  \n",
       "1  2021-11-01  Санкт-Петербург  Терапия         9  4655.0  \n",
       "2  2022-02-25  Санкт-Петербург  Терапия         1  1425.0  \n",
       "3  2022-06-08  Санкт-Петербург  Терапия        15  5415.0  \n",
       "4  2021-07-13  Санкт-Петербург  Терапия         1   800.0  "
      ]
     },
     "execution_count": 7,
     "metadata": {},
     "output_type": "execute_result"
    }
   ],
   "source": [
    "data_offline.head()"
   ]
  },
  {
   "cell_type": "code",
   "execution_count": 8,
   "id": "cd31739e",
   "metadata": {},
   "outputs": [
    {
     "name": "stdout",
     "output_type": "stream",
     "text": [
      "<class 'pandas.core.frame.DataFrame'>\n",
      "RangeIndex: 20186 entries, 0 to 20185\n",
      "Data columns (total 15 columns):\n",
      " #   Column                   Non-Null Count  Dtype  \n",
      "---  ------                   --------------  -----  \n",
      " 0   unique_case_id           20186 non-null  object \n",
      " 1   patient_id               20186 non-null  int64  \n",
      " 2   doctor_specialty_online  20186 non-null  object \n",
      " 3   start_case               20186 non-null  object \n",
      " 4   region                   20186 non-null  object \n",
      " 5   profile                  18166 non-null  object \n",
      " 6   category                 20186 non-null  object \n",
      " 7   duration                 20186 non-null  int64  \n",
      " 8   loss                     20186 non-null  float64\n",
      " 9   telemed_cnt              20186 non-null  int64  \n",
      " 10  analysis_cnt             20186 non-null  int64  \n",
      " 11  offline_cnt              20186 non-null  int64  \n",
      " 12  vnd_cnt                  20186 non-null  int64  \n",
      " 13  hospital_cnt             20186 non-null  int64  \n",
      " 14  unknown_cnt              20186 non-null  int64  \n",
      "dtypes: float64(1), int64(8), object(6)\n",
      "memory usage: 2.3+ MB\n"
     ]
    }
   ],
   "source": [
    "data_online.info()"
   ]
  },
  {
   "cell_type": "code",
   "execution_count": 9,
   "id": "e990ef8d",
   "metadata": {},
   "outputs": [
    {
     "name": "stdout",
     "output_type": "stream",
     "text": [
      "<class 'pandas.core.frame.DataFrame'>\n",
      "RangeIndex: 34122 entries, 0 to 34121\n",
      "Data columns (total 7 columns):\n",
      " #   Column                    Non-Null Count  Dtype  \n",
      "---  ------                    --------------  -----  \n",
      " 0   unique_case_id            34122 non-null  object \n",
      " 1   doctor_specialty_offline  34122 non-null  object \n",
      " 2   start_case                34122 non-null  object \n",
      " 3   region                    34122 non-null  object \n",
      " 4   profile                   28630 non-null  object \n",
      " 5   duration                  34122 non-null  int64  \n",
      " 6   loss                      34122 non-null  float64\n",
      "dtypes: float64(1), int64(1), object(5)\n",
      "memory usage: 1.8+ MB\n"
     ]
    }
   ],
   "source": [
    "data_offline.info()"
   ]
  },
  {
   "cell_type": "markdown",
   "id": "4dc75ddc",
   "metadata": {},
   "source": [
    "## Предобработка данных"
   ]
  },
  {
   "cell_type": "markdown",
   "id": "b12c73aa",
   "metadata": {},
   "source": [
    "Заполним пропуски в `profile` значением `unknown`"
   ]
  },
  {
   "cell_type": "code",
   "execution_count": 10,
   "id": "4036ff0d",
   "metadata": {},
   "outputs": [],
   "source": [
    "data_online['profile'] = data_online['profile'].fillna('Unknown')\n",
    "data_offline['profile'] = data_offline['profile'].fillna('Unknown')"
   ]
  },
  {
   "cell_type": "markdown",
   "id": "52e1a265",
   "metadata": {},
   "source": [
    "Приведем даты к правильному формату."
   ]
  },
  {
   "cell_type": "code",
   "execution_count": 11,
   "id": "bff359b5",
   "metadata": {},
   "outputs": [],
   "source": [
    "data_online['start_case'] = pd.to_datetime(data_online['start_case'],\n",
    "                                    format='%Y-%m-%d',\n",
    "                                    errors='raise')\n",
    "data_offline['start_case'] = pd.to_datetime(data_offline['start_case'],\n",
    "                                    format='%Y-%m-%d',\n",
    "                                    errors='raise')"
   ]
  },
  {
   "cell_type": "markdown",
   "id": "d19af19b",
   "metadata": {},
   "source": [
    "Добавим поле `is_free`, которое будет принимать значение True, если кейс не принес никаких убытков."
   ]
  },
  {
   "cell_type": "code",
   "execution_count": 12,
   "id": "4fa7ab8e",
   "metadata": {},
   "outputs": [],
   "source": [
    "data_online['is_free']=data_online['loss']==0"
   ]
  },
  {
   "cell_type": "markdown",
   "id": "bf7b3455",
   "metadata": {},
   "source": [
    "## Исследовательский анализ"
   ]
  },
  {
   "cell_type": "markdown",
   "id": "c8e36c2c",
   "metadata": {},
   "source": [
    "### Онлайн и оффлайн кейсы"
   ]
  },
  {
   "cell_type": "markdown",
   "id": "8b0bda95",
   "metadata": {},
   "source": [
    "Изучим основные статистические показатели датасета с онлайн-кейсами."
   ]
  },
  {
   "cell_type": "code",
   "execution_count": 13,
   "id": "1783b654",
   "metadata": {},
   "outputs": [
    {
     "data": {
      "text/html": [
       "<div>\n",
       "<style scoped>\n",
       "    .dataframe tbody tr th:only-of-type {\n",
       "        vertical-align: middle;\n",
       "    }\n",
       "\n",
       "    .dataframe tbody tr th {\n",
       "        vertical-align: top;\n",
       "    }\n",
       "\n",
       "    .dataframe thead th {\n",
       "        text-align: right;\n",
       "    }\n",
       "</style>\n",
       "<table border=\"1\" class=\"dataframe\">\n",
       "  <thead>\n",
       "    <tr style=\"text-align: right;\">\n",
       "      <th></th>\n",
       "      <th>patient_id</th>\n",
       "      <th>duration</th>\n",
       "      <th>loss</th>\n",
       "      <th>telemed_cnt</th>\n",
       "      <th>analysis_cnt</th>\n",
       "      <th>offline_cnt</th>\n",
       "      <th>vnd_cnt</th>\n",
       "      <th>hospital_cnt</th>\n",
       "      <th>unknown_cnt</th>\n",
       "    </tr>\n",
       "  </thead>\n",
       "  <tbody>\n",
       "    <tr>\n",
       "      <th>count</th>\n",
       "      <td>20186.000000</td>\n",
       "      <td>20186.000000</td>\n",
       "      <td>20186.000000</td>\n",
       "      <td>20186.000000</td>\n",
       "      <td>20186.000000</td>\n",
       "      <td>20186.000000</td>\n",
       "      <td>20186.000000</td>\n",
       "      <td>20186.0</td>\n",
       "      <td>20186.000000</td>\n",
       "    </tr>\n",
       "    <tr>\n",
       "      <th>mean</th>\n",
       "      <td>114291.505301</td>\n",
       "      <td>11.400030</td>\n",
       "      <td>1379.623614</td>\n",
       "      <td>1.151095</td>\n",
       "      <td>0.514267</td>\n",
       "      <td>0.207322</td>\n",
       "      <td>0.022937</td>\n",
       "      <td>0.0</td>\n",
       "      <td>0.047904</td>\n",
       "    </tr>\n",
       "    <tr>\n",
       "      <th>std</th>\n",
       "      <td>55694.846685</td>\n",
       "      <td>42.896465</td>\n",
       "      <td>4339.208169</td>\n",
       "      <td>0.612202</td>\n",
       "      <td>1.975229</td>\n",
       "      <td>0.658225</td>\n",
       "      <td>0.166917</td>\n",
       "      <td>0.0</td>\n",
       "      <td>0.323980</td>\n",
       "    </tr>\n",
       "    <tr>\n",
       "      <th>min</th>\n",
       "      <td>3.000000</td>\n",
       "      <td>1.000000</td>\n",
       "      <td>0.000000</td>\n",
       "      <td>0.000000</td>\n",
       "      <td>0.000000</td>\n",
       "      <td>0.000000</td>\n",
       "      <td>0.000000</td>\n",
       "      <td>0.0</td>\n",
       "      <td>0.000000</td>\n",
       "    </tr>\n",
       "    <tr>\n",
       "      <th>25%</th>\n",
       "      <td>69725.250000</td>\n",
       "      <td>1.000000</td>\n",
       "      <td>0.000000</td>\n",
       "      <td>1.000000</td>\n",
       "      <td>0.000000</td>\n",
       "      <td>0.000000</td>\n",
       "      <td>0.000000</td>\n",
       "      <td>0.0</td>\n",
       "      <td>0.000000</td>\n",
       "    </tr>\n",
       "    <tr>\n",
       "      <th>50%</th>\n",
       "      <td>111190.500000</td>\n",
       "      <td>1.000000</td>\n",
       "      <td>0.000000</td>\n",
       "      <td>1.000000</td>\n",
       "      <td>0.000000</td>\n",
       "      <td>0.000000</td>\n",
       "      <td>0.000000</td>\n",
       "      <td>0.0</td>\n",
       "      <td>0.000000</td>\n",
       "    </tr>\n",
       "    <tr>\n",
       "      <th>75%</th>\n",
       "      <td>159821.000000</td>\n",
       "      <td>4.000000</td>\n",
       "      <td>0.000000</td>\n",
       "      <td>1.000000</td>\n",
       "      <td>0.000000</td>\n",
       "      <td>0.000000</td>\n",
       "      <td>0.000000</td>\n",
       "      <td>0.0</td>\n",
       "      <td>0.000000</td>\n",
       "    </tr>\n",
       "    <tr>\n",
       "      <th>max</th>\n",
       "      <td>222500.000000</td>\n",
       "      <td>538.000000</td>\n",
       "      <td>123806.190000</td>\n",
       "      <td>11.000000</td>\n",
       "      <td>36.000000</td>\n",
       "      <td>12.000000</td>\n",
       "      <td>3.000000</td>\n",
       "      <td>0.0</td>\n",
       "      <td>20.000000</td>\n",
       "    </tr>\n",
       "  </tbody>\n",
       "</table>\n",
       "</div>"
      ],
      "text/plain": [
       "          patient_id      duration           loss   telemed_cnt  analysis_cnt  \\\n",
       "count   20186.000000  20186.000000   20186.000000  20186.000000  20186.000000   \n",
       "mean   114291.505301     11.400030    1379.623614      1.151095      0.514267   \n",
       "std     55694.846685     42.896465    4339.208169      0.612202      1.975229   \n",
       "min         3.000000      1.000000       0.000000      0.000000      0.000000   \n",
       "25%     69725.250000      1.000000       0.000000      1.000000      0.000000   \n",
       "50%    111190.500000      1.000000       0.000000      1.000000      0.000000   \n",
       "75%    159821.000000      4.000000       0.000000      1.000000      0.000000   \n",
       "max    222500.000000    538.000000  123806.190000     11.000000     36.000000   \n",
       "\n",
       "        offline_cnt       vnd_cnt  hospital_cnt   unknown_cnt  \n",
       "count  20186.000000  20186.000000       20186.0  20186.000000  \n",
       "mean       0.207322      0.022937           0.0      0.047904  \n",
       "std        0.658225      0.166917           0.0      0.323980  \n",
       "min        0.000000      0.000000           0.0      0.000000  \n",
       "25%        0.000000      0.000000           0.0      0.000000  \n",
       "50%        0.000000      0.000000           0.0      0.000000  \n",
       "75%        0.000000      0.000000           0.0      0.000000  \n",
       "max       12.000000      3.000000           0.0     20.000000  "
      ]
     },
     "execution_count": 13,
     "metadata": {},
     "output_type": "execute_result"
    }
   ],
   "source": [
    "data_online.describe()"
   ]
  },
  {
   "cell_type": "code",
   "execution_count": 49,
   "id": "2491371e",
   "metadata": {},
   "outputs": [
    {
     "data": {
      "text/html": [
       "<div>\n",
       "<style scoped>\n",
       "    .dataframe tbody tr th:only-of-type {\n",
       "        vertical-align: middle;\n",
       "    }\n",
       "\n",
       "    .dataframe tbody tr th {\n",
       "        vertical-align: top;\n",
       "    }\n",
       "\n",
       "    .dataframe thead th {\n",
       "        text-align: right;\n",
       "    }\n",
       "</style>\n",
       "<table border=\"1\" class=\"dataframe\">\n",
       "  <thead>\n",
       "    <tr style=\"text-align: right;\">\n",
       "      <th></th>\n",
       "      <th>duration</th>\n",
       "      <th>loss</th>\n",
       "    </tr>\n",
       "  </thead>\n",
       "  <tbody>\n",
       "    <tr>\n",
       "      <th>count</th>\n",
       "      <td>33013.000000</td>\n",
       "      <td>33013.000000</td>\n",
       "    </tr>\n",
       "    <tr>\n",
       "      <th>mean</th>\n",
       "      <td>18.630691</td>\n",
       "      <td>3314.888405</td>\n",
       "    </tr>\n",
       "    <tr>\n",
       "      <th>std</th>\n",
       "      <td>59.881294</td>\n",
       "      <td>2767.990369</td>\n",
       "    </tr>\n",
       "    <tr>\n",
       "      <th>min</th>\n",
       "      <td>1.000000</td>\n",
       "      <td>0.000000</td>\n",
       "    </tr>\n",
       "    <tr>\n",
       "      <th>25%</th>\n",
       "      <td>1.000000</td>\n",
       "      <td>1400.000000</td>\n",
       "    </tr>\n",
       "    <tr>\n",
       "      <th>50%</th>\n",
       "      <td>1.000000</td>\n",
       "      <td>2300.000000</td>\n",
       "    </tr>\n",
       "    <tr>\n",
       "      <th>75%</th>\n",
       "      <td>8.000000</td>\n",
       "      <td>4260.000000</td>\n",
       "    </tr>\n",
       "    <tr>\n",
       "      <th>max</th>\n",
       "      <td>522.000000</td>\n",
       "      <td>15000.000000</td>\n",
       "    </tr>\n",
       "  </tbody>\n",
       "</table>\n",
       "</div>"
      ],
      "text/plain": [
       "           duration          loss\n",
       "count  33013.000000  33013.000000\n",
       "mean      18.630691   3314.888405\n",
       "std       59.881294   2767.990369\n",
       "min        1.000000      0.000000\n",
       "25%        1.000000   1400.000000\n",
       "50%        1.000000   2300.000000\n",
       "75%        8.000000   4260.000000\n",
       "max      522.000000  15000.000000"
      ]
     },
     "execution_count": 49,
     "metadata": {},
     "output_type": "execute_result"
    }
   ],
   "source": [
    "data_offline.describe()"
   ]
  },
  {
   "cell_type": "markdown",
   "id": "211abcb0",
   "metadata": {},
   "source": [
    "Изучим распределение убытков в онлайн-кейсах, выкинув кейсы, где loss=0."
   ]
  },
  {
   "cell_type": "code",
   "execution_count": 14,
   "id": "d397dcad",
   "metadata": {},
   "outputs": [
    {
     "data": {
      "text/plain": [
       "<AxesSubplot:>"
      ]
     },
     "execution_count": 14,
     "metadata": {},
     "output_type": "execute_result"
    },
    {
     "data": {
      "image/png": "[encoded data removed]",
      "text/plain": [
       "<Figure size 432x288 with 1 Axes>"
      ]
     },
     "metadata": {
      "needs_background": "light"
     },
     "output_type": "display_data"
    }
   ],
   "source": [
    "data_online['loss'].hist(bins=100,range=(1,20000))"
   ]
  },
  {
   "cell_type": "markdown",
   "id": "d8d3f13a",
   "metadata": {},
   "source": [
    "Изучим распределение убытков в оффлайн-кейсах"
   ]
  },
  {
   "cell_type": "code",
   "execution_count": 15,
   "id": "4670d9af",
   "metadata": {},
   "outputs": [
    {
     "data": {
      "text/plain": [
       "<AxesSubplot:>"
      ]
     },
     "execution_count": 15,
     "metadata": {},
     "output_type": "execute_result"
    },
    {
     "data": {
      "image/png": "[encoded data removed]",
      "text/plain": [
       "<Figure size 432x288 with 1 Axes>"
      ]
     },
     "metadata": {
      "needs_background": "light"
     },
     "output_type": "display_data"
    }
   ],
   "source": [
    "data_offline['loss'].hist(bins=100,range=(1,20000))"
   ]
  },
  {
   "cell_type": "markdown",
   "id": "984dd0d3",
   "metadata": {},
   "source": [
    "Проверим данные на выбросы, построив диаграммы размаха."
   ]
  },
  {
   "cell_type": "code",
   "execution_count": 16,
   "id": "e3b905df",
   "metadata": {},
   "outputs": [
    {
     "data": {
      "text/plain": [
       "(0.0, 20000.0)"
      ]
     },
     "execution_count": 16,
     "metadata": {},
     "output_type": "execute_result"
    },
    {
     "data": {
      "image/png": "[encoded data removed]",
      "text/plain": [
       "<Figure size 432x288 with 1 Axes>"
      ]
     },
     "metadata": {
      "needs_background": "light"
     },
     "output_type": "display_data"
    }
   ],
   "source": [
    "data_online[data_online['loss']>0].boxplot(column='loss')\n",
    "plt.ylim(0, 20000) "
   ]
  },
  {
   "cell_type": "code",
   "execution_count": 17,
   "id": "84de15f1",
   "metadata": {},
   "outputs": [
    {
     "data": {
      "text/plain": [
       "(0.0, 20000.0)"
      ]
     },
     "execution_count": 17,
     "metadata": {},
     "output_type": "execute_result"
    },
    {
     "data": {
      "image/png": "[encoded data removed]",
      "text/plain": [
       "<Figure size 432x288 with 1 Axes>"
      ]
     },
     "metadata": {
      "needs_background": "light"
     },
     "output_type": "display_data"
    }
   ],
   "source": [
    "data_offline[data_offline['loss']>0].boxplot(column='loss')\n",
    "plt.ylim(0, 20000) "
   ]
  },
  {
   "cell_type": "markdown",
   "id": "c83095bb",
   "metadata": {},
   "source": [
    "Отбросим выбросы в обоих датасетах."
   ]
  },
  {
   "cell_type": "code",
   "execution_count": 18,
   "id": "d934a760",
   "metadata": {},
   "outputs": [
    {
     "data": {
      "text/plain": [
       "351"
      ]
     },
     "execution_count": 18,
     "metadata": {},
     "output_type": "execute_result"
    }
   ],
   "source": [
    "data_online[data_online['loss']>15000]['loss'].count()"
   ]
  },
  {
   "cell_type": "code",
   "execution_count": 19,
   "id": "69c15a74",
   "metadata": {},
   "outputs": [],
   "source": [
    "data_online = data_online[data_online['loss']<=15000]"
   ]
  },
  {
   "cell_type": "code",
   "execution_count": 20,
   "id": "1ee9445c",
   "metadata": {},
   "outputs": [
    {
     "data": {
      "text/plain": [
       "1109"
      ]
     },
     "execution_count": 20,
     "metadata": {},
     "output_type": "execute_result"
    }
   ],
   "source": [
    "data_offline[data_offline['loss']>15000]['loss'].count()"
   ]
  },
  {
   "cell_type": "code",
   "execution_count": 21,
   "id": "e6c9f010",
   "metadata": {},
   "outputs": [],
   "source": [
    "data_offline = data_offline[data_offline['loss']<=15000]"
   ]
  },
  {
   "cell_type": "markdown",
   "id": "0b5e406d",
   "metadata": {},
   "source": [
    "Сравним длительность онлайн и оффлайн кейсов."
   ]
  },
  {
   "cell_type": "code",
   "execution_count": 22,
   "id": "adf336a7",
   "metadata": {},
   "outputs": [
    {
     "data": {
      "text/plain": [
       "<AxesSubplot:>"
      ]
     },
     "execution_count": 22,
     "metadata": {},
     "output_type": "execute_result"
    },
    {
     "data": {
      "image/png": "[encoded data removed]",
      "text/plain": [
       "<Figure size 432x288 with 1 Axes>"
      ]
     },
     "metadata": {
      "needs_background": "light"
     },
     "output_type": "display_data"
    }
   ],
   "source": [
    "data_online['duration'].hist(bins=5,range=(0,30))"
   ]
  },
  {
   "cell_type": "code",
   "execution_count": 23,
   "id": "a2118030",
   "metadata": {},
   "outputs": [
    {
     "data": {
      "text/plain": [
       "<AxesSubplot:>"
      ]
     },
     "execution_count": 23,
     "metadata": {},
     "output_type": "execute_result"
    },
    {
     "data": {
      "image/png": "[encoded data removed]",
      "text/plain": [
       "<Figure size 432x288 with 1 Axes>"
      ]
     },
     "metadata": {
      "needs_background": "light"
     },
     "output_type": "display_data"
    }
   ],
   "source": [
    "data_offline['duration'].hist(bins=5,range=(1,30))"
   ]
  },
  {
   "cell_type": "markdown",
   "id": "df0f0090",
   "metadata": {},
   "source": [
    "Оффлайн-кейсы обычно имеют большую продолжительность по сравнению с онлайн-кейсами."
   ]
  },
  {
   "cell_type": "markdown",
   "id": "60efb20d",
   "metadata": {},
   "source": [
    "### Сравнение терапевтов под запись и дежурных врачей"
   ]
  },
  {
   "cell_type": "markdown",
   "id": "a28139bc",
   "metadata": {},
   "source": [
    "Разделим датасет с онлайн-кейсами на два датафрейма - кейсы терапевтов и кейсы дежурных врачей (врач общей практики)."
   ]
  },
  {
   "cell_type": "code",
   "execution_count": 24,
   "id": "0ed9c149",
   "metadata": {},
   "outputs": [],
   "source": [
    "ther = data_online[data_online['doctor_specialty_online']=='Терапевт']\n",
    "duty = data_online[data_online['doctor_specialty_online']=='Врач общей практики']"
   ]
  },
  {
   "cell_type": "markdown",
   "id": "574603a2",
   "metadata": {},
   "source": [
    "Сравним основные статистические показатели двух наборов данных."
   ]
  },
  {
   "cell_type": "code",
   "execution_count": 25,
   "id": "249565d7",
   "metadata": {
    "scrolled": true
   },
   "outputs": [
    {
     "data": {
      "text/html": [
       "<div>\n",
       "<style scoped>\n",
       "    .dataframe tbody tr th:only-of-type {\n",
       "        vertical-align: middle;\n",
       "    }\n",
       "\n",
       "    .dataframe tbody tr th {\n",
       "        vertical-align: top;\n",
       "    }\n",
       "\n",
       "    .dataframe thead th {\n",
       "        text-align: right;\n",
       "    }\n",
       "</style>\n",
       "<table border=\"1\" class=\"dataframe\">\n",
       "  <thead>\n",
       "    <tr style=\"text-align: right;\">\n",
       "      <th></th>\n",
       "      <th>patient_id</th>\n",
       "      <th>duration</th>\n",
       "      <th>loss</th>\n",
       "      <th>telemed_cnt</th>\n",
       "      <th>analysis_cnt</th>\n",
       "      <th>offline_cnt</th>\n",
       "      <th>vnd_cnt</th>\n",
       "      <th>hospital_cnt</th>\n",
       "      <th>unknown_cnt</th>\n",
       "    </tr>\n",
       "  </thead>\n",
       "  <tbody>\n",
       "    <tr>\n",
       "      <th>count</th>\n",
       "      <td>1542.000000</td>\n",
       "      <td>1542.000000</td>\n",
       "      <td>1542.000000</td>\n",
       "      <td>1542.000000</td>\n",
       "      <td>1542.000000</td>\n",
       "      <td>1542.000000</td>\n",
       "      <td>1542.000000</td>\n",
       "      <td>1542.0</td>\n",
       "      <td>1542.000000</td>\n",
       "    </tr>\n",
       "    <tr>\n",
       "      <th>mean</th>\n",
       "      <td>106225.996109</td>\n",
       "      <td>34.614786</td>\n",
       "      <td>4006.265623</td>\n",
       "      <td>1.342412</td>\n",
       "      <td>1.779507</td>\n",
       "      <td>0.663424</td>\n",
       "      <td>0.084955</td>\n",
       "      <td>0.0</td>\n",
       "      <td>0.095979</td>\n",
       "    </tr>\n",
       "    <tr>\n",
       "      <th>std</th>\n",
       "      <td>51557.917935</td>\n",
       "      <td>70.701414</td>\n",
       "      <td>3282.042858</td>\n",
       "      <td>0.837631</td>\n",
       "      <td>2.879477</td>\n",
       "      <td>0.864738</td>\n",
       "      <td>0.303421</td>\n",
       "      <td>0.0</td>\n",
       "      <td>0.464017</td>\n",
       "    </tr>\n",
       "    <tr>\n",
       "      <th>min</th>\n",
       "      <td>1393.000000</td>\n",
       "      <td>1.000000</td>\n",
       "      <td>137.000000</td>\n",
       "      <td>0.000000</td>\n",
       "      <td>0.000000</td>\n",
       "      <td>0.000000</td>\n",
       "      <td>0.000000</td>\n",
       "      <td>0.0</td>\n",
       "      <td>0.000000</td>\n",
       "    </tr>\n",
       "    <tr>\n",
       "      <th>25%</th>\n",
       "      <td>68386.500000</td>\n",
       "      <td>5.000000</td>\n",
       "      <td>1489.250000</td>\n",
       "      <td>1.000000</td>\n",
       "      <td>0.000000</td>\n",
       "      <td>0.000000</td>\n",
       "      <td>0.000000</td>\n",
       "      <td>0.0</td>\n",
       "      <td>0.000000</td>\n",
       "    </tr>\n",
       "    <tr>\n",
       "      <th>50%</th>\n",
       "      <td>103619.000000</td>\n",
       "      <td>11.000000</td>\n",
       "      <td>2967.375000</td>\n",
       "      <td>1.000000</td>\n",
       "      <td>1.000000</td>\n",
       "      <td>0.000000</td>\n",
       "      <td>0.000000</td>\n",
       "      <td>0.0</td>\n",
       "      <td>0.000000</td>\n",
       "    </tr>\n",
       "    <tr>\n",
       "      <th>75%</th>\n",
       "      <td>147350.000000</td>\n",
       "      <td>26.000000</td>\n",
       "      <td>5593.000000</td>\n",
       "      <td>2.000000</td>\n",
       "      <td>2.000000</td>\n",
       "      <td>1.000000</td>\n",
       "      <td>0.000000</td>\n",
       "      <td>0.0</td>\n",
       "      <td>0.000000</td>\n",
       "    </tr>\n",
       "    <tr>\n",
       "      <th>max</th>\n",
       "      <td>218852.000000</td>\n",
       "      <td>537.000000</td>\n",
       "      <td>15000.000000</td>\n",
       "      <td>7.000000</td>\n",
       "      <td>30.000000</td>\n",
       "      <td>7.000000</td>\n",
       "      <td>3.000000</td>\n",
       "      <td>0.0</td>\n",
       "      <td>6.000000</td>\n",
       "    </tr>\n",
       "  </tbody>\n",
       "</table>\n",
       "</div>"
      ],
      "text/plain": [
       "          patient_id     duration          loss  telemed_cnt  analysis_cnt  \\\n",
       "count    1542.000000  1542.000000   1542.000000  1542.000000   1542.000000   \n",
       "mean   106225.996109    34.614786   4006.265623     1.342412      1.779507   \n",
       "std     51557.917935    70.701414   3282.042858     0.837631      2.879477   \n",
       "min      1393.000000     1.000000    137.000000     0.000000      0.000000   \n",
       "25%     68386.500000     5.000000   1489.250000     1.000000      0.000000   \n",
       "50%    103619.000000    11.000000   2967.375000     1.000000      1.000000   \n",
       "75%    147350.000000    26.000000   5593.000000     2.000000      2.000000   \n",
       "max    218852.000000   537.000000  15000.000000     7.000000     30.000000   \n",
       "\n",
       "       offline_cnt      vnd_cnt  hospital_cnt  unknown_cnt  \n",
       "count  1542.000000  1542.000000        1542.0  1542.000000  \n",
       "mean      0.663424     0.084955           0.0     0.095979  \n",
       "std       0.864738     0.303421           0.0     0.464017  \n",
       "min       0.000000     0.000000           0.0     0.000000  \n",
       "25%       0.000000     0.000000           0.0     0.000000  \n",
       "50%       0.000000     0.000000           0.0     0.000000  \n",
       "75%       1.000000     0.000000           0.0     0.000000  \n",
       "max       7.000000     3.000000           0.0     6.000000  "
      ]
     },
     "execution_count": 25,
     "metadata": {},
     "output_type": "execute_result"
    }
   ],
   "source": [
    "ther[~ther['is_free']].describe()"
   ]
  },
  {
   "cell_type": "code",
   "execution_count": 26,
   "id": "209edfcc",
   "metadata": {},
   "outputs": [
    {
     "data": {
      "text/plain": [
       "0.796650402215482"
      ]
     },
     "execution_count": 26,
     "metadata": {},
     "output_type": "execute_result"
    }
   ],
   "source": [
    "ther['is_free'].mean()"
   ]
  },
  {
   "cell_type": "code",
   "execution_count": 27,
   "id": "5b9ce013",
   "metadata": {},
   "outputs": [
    {
     "data": {
      "text/plain": [
       "1064.1966563307494"
      ]
     },
     "execution_count": 27,
     "metadata": {},
     "output_type": "execute_result"
    }
   ],
   "source": [
    "ther['loss'].sum()/len(ther['patient_id'].unique())"
   ]
  },
  {
   "cell_type": "code",
   "execution_count": 28,
   "id": "d9788476",
   "metadata": {
    "scrolled": true
   },
   "outputs": [
    {
     "data": {
      "text/html": [
       "<div>\n",
       "<style scoped>\n",
       "    .dataframe tbody tr th:only-of-type {\n",
       "        vertical-align: middle;\n",
       "    }\n",
       "\n",
       "    .dataframe tbody tr th {\n",
       "        vertical-align: top;\n",
       "    }\n",
       "\n",
       "    .dataframe thead th {\n",
       "        text-align: right;\n",
       "    }\n",
       "</style>\n",
       "<table border=\"1\" class=\"dataframe\">\n",
       "  <thead>\n",
       "    <tr style=\"text-align: right;\">\n",
       "      <th></th>\n",
       "      <th>patient_id</th>\n",
       "      <th>duration</th>\n",
       "      <th>loss</th>\n",
       "      <th>telemed_cnt</th>\n",
       "      <th>analysis_cnt</th>\n",
       "      <th>offline_cnt</th>\n",
       "      <th>vnd_cnt</th>\n",
       "      <th>hospital_cnt</th>\n",
       "      <th>unknown_cnt</th>\n",
       "    </tr>\n",
       "  </thead>\n",
       "  <tbody>\n",
       "    <tr>\n",
       "      <th>count</th>\n",
       "      <td>3074.000000</td>\n",
       "      <td>3074.000000</td>\n",
       "      <td>3074.000000</td>\n",
       "      <td>3074.000000</td>\n",
       "      <td>3074.000000</td>\n",
       "      <td>3074.000000</td>\n",
       "      <td>3074.000000</td>\n",
       "      <td>3074.0</td>\n",
       "      <td>3074.000000</td>\n",
       "    </tr>\n",
       "    <tr>\n",
       "      <th>mean</th>\n",
       "      <td>110051.604750</td>\n",
       "      <td>36.300260</td>\n",
       "      <td>4161.332557</td>\n",
       "      <td>1.057905</td>\n",
       "      <td>1.459336</td>\n",
       "      <td>0.739102</td>\n",
       "      <td>0.081653</td>\n",
       "      <td>0.0</td>\n",
       "      <td>0.100520</td>\n",
       "    </tr>\n",
       "    <tr>\n",
       "      <th>std</th>\n",
       "      <td>53917.994823</td>\n",
       "      <td>72.225421</td>\n",
       "      <td>3345.201586</td>\n",
       "      <td>0.559419</td>\n",
       "      <td>2.391234</td>\n",
       "      <td>0.887187</td>\n",
       "      <td>0.297787</td>\n",
       "      <td>0.0</td>\n",
       "      <td>0.471767</td>\n",
       "    </tr>\n",
       "    <tr>\n",
       "      <th>min</th>\n",
       "      <td>491.000000</td>\n",
       "      <td>1.000000</td>\n",
       "      <td>60.000000</td>\n",
       "      <td>0.000000</td>\n",
       "      <td>0.000000</td>\n",
       "      <td>0.000000</td>\n",
       "      <td>0.000000</td>\n",
       "      <td>0.0</td>\n",
       "      <td>0.000000</td>\n",
       "    </tr>\n",
       "    <tr>\n",
       "      <th>25%</th>\n",
       "      <td>65549.000000</td>\n",
       "      <td>4.000000</td>\n",
       "      <td>1601.250000</td>\n",
       "      <td>1.000000</td>\n",
       "      <td>0.000000</td>\n",
       "      <td>0.000000</td>\n",
       "      <td>0.000000</td>\n",
       "      <td>0.0</td>\n",
       "      <td>0.000000</td>\n",
       "    </tr>\n",
       "    <tr>\n",
       "      <th>50%</th>\n",
       "      <td>104900.500000</td>\n",
       "      <td>10.000000</td>\n",
       "      <td>3102.500000</td>\n",
       "      <td>1.000000</td>\n",
       "      <td>0.000000</td>\n",
       "      <td>1.000000</td>\n",
       "      <td>0.000000</td>\n",
       "      <td>0.0</td>\n",
       "      <td>0.000000</td>\n",
       "    </tr>\n",
       "    <tr>\n",
       "      <th>75%</th>\n",
       "      <td>157379.500000</td>\n",
       "      <td>28.000000</td>\n",
       "      <td>5682.500000</td>\n",
       "      <td>1.000000</td>\n",
       "      <td>2.000000</td>\n",
       "      <td>1.000000</td>\n",
       "      <td>0.000000</td>\n",
       "      <td>0.0</td>\n",
       "      <td>0.000000</td>\n",
       "    </tr>\n",
       "    <tr>\n",
       "      <th>max</th>\n",
       "      <td>217899.000000</td>\n",
       "      <td>501.000000</td>\n",
       "      <td>15000.000000</td>\n",
       "      <td>8.000000</td>\n",
       "      <td>21.000000</td>\n",
       "      <td>6.000000</td>\n",
       "      <td>3.000000</td>\n",
       "      <td>0.0</td>\n",
       "      <td>12.000000</td>\n",
       "    </tr>\n",
       "  </tbody>\n",
       "</table>\n",
       "</div>"
      ],
      "text/plain": [
       "          patient_id     duration          loss  telemed_cnt  analysis_cnt  \\\n",
       "count    3074.000000  3074.000000   3074.000000  3074.000000   3074.000000   \n",
       "mean   110051.604750    36.300260   4161.332557     1.057905      1.459336   \n",
       "std     53917.994823    72.225421   3345.201586     0.559419      2.391234   \n",
       "min       491.000000     1.000000     60.000000     0.000000      0.000000   \n",
       "25%     65549.000000     4.000000   1601.250000     1.000000      0.000000   \n",
       "50%    104900.500000    10.000000   3102.500000     1.000000      0.000000   \n",
       "75%    157379.500000    28.000000   5682.500000     1.000000      2.000000   \n",
       "max    217899.000000   501.000000  15000.000000     8.000000     21.000000   \n",
       "\n",
       "       offline_cnt      vnd_cnt  hospital_cnt  unknown_cnt  \n",
       "count  3074.000000  3074.000000        3074.0  3074.000000  \n",
       "mean      0.739102     0.081653           0.0     0.100520  \n",
       "std       0.887187     0.297787           0.0     0.471767  \n",
       "min       0.000000     0.000000           0.0     0.000000  \n",
       "25%       0.000000     0.000000           0.0     0.000000  \n",
       "50%       1.000000     0.000000           0.0     0.000000  \n",
       "75%       1.000000     0.000000           0.0     0.000000  \n",
       "max       6.000000     3.000000           0.0    12.000000  "
      ]
     },
     "execution_count": 28,
     "metadata": {},
     "output_type": "execute_result"
    }
   ],
   "source": [
    "duty[~duty['is_free']].describe()"
   ]
  },
  {
   "cell_type": "code",
   "execution_count": 29,
   "id": "c4995a9e",
   "metadata": {},
   "outputs": [
    {
     "data": {
      "text/plain": [
       "0.7491021873979758"
      ]
     },
     "execution_count": 29,
     "metadata": {},
     "output_type": "execute_result"
    }
   ],
   "source": [
    "duty['is_free'].mean()"
   ]
  },
  {
   "cell_type": "code",
   "execution_count": 30,
   "id": "f002afc5",
   "metadata": {},
   "outputs": [
    {
     "data": {
      "text/plain": [
       "1470.8446912728527"
      ]
     },
     "execution_count": 30,
     "metadata": {},
     "output_type": "execute_result"
    }
   ],
   "source": [
    "duty['loss'].sum()/len(duty['patient_id'].unique())"
   ]
  },
  {
   "cell_type": "markdown",
   "id": "53aaada4",
   "metadata": {},
   "source": [
    "1. У терапевтов по записи доля бесплатных кейсов больше чем у дежурных врачей. \n",
    "2. В среднем кейсы в обоих случаях длятся чуть больше месяца.\n",
    "3. У дежурных врачей средний чек на пациента выше чем у терапевтов по записи."
   ]
  },
  {
   "cell_type": "code",
   "execution_count": 31,
   "id": "4a2bf6f1",
   "metadata": {},
   "outputs": [
    {
     "data": {
      "text/plain": [
       "<AxesSubplot:>"
      ]
     },
     "execution_count": 31,
     "metadata": {},
     "output_type": "execute_result"
    },
    {
     "data": {
      "image/png": "[encoded data removed]",
      "text/plain": [
       "<Figure size 432x288 with 1 Axes>"
      ]
     },
     "metadata": {
      "needs_background": "light"
     },
     "output_type": "display_data"
    }
   ],
   "source": [
    "ther['duration'].hist(bins=5,range=(1,30))"
   ]
  },
  {
   "cell_type": "code",
   "execution_count": 32,
   "id": "a5002429",
   "metadata": {},
   "outputs": [
    {
     "data": {
      "text/plain": [
       "<AxesSubplot:>"
      ]
     },
     "execution_count": 32,
     "metadata": {},
     "output_type": "execute_result"
    },
    {
     "data": {
      "image/png": "[encoded data removed]",
      "text/plain": [
       "<Figure size 432x288 with 1 Axes>"
      ]
     },
     "metadata": {
      "needs_background": "light"
     },
     "output_type": "display_data"
    }
   ],
   "source": [
    "duty['duration'].hist(bins=5,range=(1,30))"
   ]
  },
  {
   "cell_type": "markdown",
   "id": "2cc96b2b",
   "metadata": {},
   "source": [
    "В случае терапевтов по записи наблюдается чуть больше более продолжительных кейсов (6-13 дней) по сравнению с дежурными врачами."
   ]
  },
  {
   "cell_type": "markdown",
   "id": "dd9f7d3d",
   "metadata": {},
   "source": [
    "### Распределение основных количественных показателей"
   ]
  },
  {
   "cell_type": "markdown",
   "id": "0922eb79",
   "metadata": {},
   "source": [
    "Изучим распределение убытков."
   ]
  },
  {
   "cell_type": "code",
   "execution_count": 33,
   "id": "c09088a0",
   "metadata": {},
   "outputs": [
    {
     "data": {
      "image/png": "[encoded data removed]",
      "text/plain": [
       "<Figure size 1080x360 with 3 Axes>"
      ]
     },
     "metadata": {
      "needs_background": "light"
     },
     "output_type": "display_data"
    }
   ],
   "source": [
    "for j, df in enumerate([data_offline,ther[~ther['is_free']],duty[~duty['is_free']]]):\n",
    "    df['loss'].plot(kind='hist',\n",
    "                                           grid=True,\n",
    "                                           figsize=(15, 5),\n",
    "                                           bins=15,range=(1,15000),\n",
    "                                           ax=plt.subplot(1,3,j+1))\n",
    "plt.show()"
   ]
  },
  {
   "cell_type": "markdown",
   "id": "e0b8611b",
   "metadata": {},
   "source": [
    "Распределение убытков по кейсам терапевтов под запись и дежурных врачей в целом выглядят одинаково. Незначительно выделяется количество дешёвых кейсов (меньше 1000 рублей) у дежурных терапевтов - их чуть меньше чем у терапевтов под запись.\n",
    "\n",
    "Изучим распределение убытков с разбивкой по регионам."
   ]
  },
  {
   "cell_type": "code",
   "execution_count": 34,
   "id": "5e230272",
   "metadata": {
    "scrolled": false
   },
   "outputs": [
    {
     "name": "stdout",
     "output_type": "stream",
     "text": [
      "Регионы\n"
     ]
    },
    {
     "data": {
      "image/png": "[encoded data removed]",
      "text/plain": [
       "<Figure size 1080x360 with 3 Axes>"
      ]
     },
     "metadata": {
      "needs_background": "light"
     },
     "output_type": "display_data"
    },
    {
     "name": "stdout",
     "output_type": "stream",
     "text": [
      "Санкт-Петербург\n"
     ]
    },
    {
     "data": {
      "image/png": "[encoded data removed]",
      "text/plain": [
       "<Figure size 1080x360 with 3 Axes>"
      ]
     },
     "metadata": {
      "needs_background": "light"
     },
     "output_type": "display_data"
    },
    {
     "name": "stdout",
     "output_type": "stream",
     "text": [
      "Москва\n"
     ]
    },
    {
     "data": {
      "image/png": "[encoded data removed]",
      "text/plain": [
       "<Figure size 1080x360 with 3 Axes>"
      ]
     },
     "metadata": {
      "needs_background": "light"
     },
     "output_type": "display_data"
    }
   ],
   "source": [
    "for i in df['region'].unique():\n",
    "    print(i)\n",
    "    for j, df in enumerate([data_offline,ther[~ther['is_free']],duty[~duty['is_free']]]):\n",
    "        df[(df['region']==i)]['loss'].plot(kind='hist',\n",
    "                                           grid=True,\n",
    "                                           figsize=(15, 5),\n",
    "                                           bins=15,range=(1,15000),\n",
    "                                           ax=plt.subplot(1,3,j+1))\n",
    "    plt.show()"
   ]
  },
  {
   "cell_type": "markdown",
   "id": "2d13849d",
   "metadata": {},
   "source": [
    "Распределения регионов и Санкт-Петербурга по всем категориям кейсов выглядят примерно одинаково. А вот в случае Москвы выделяются кейсы дежурных терапевтов - доля дешевых кейсов (меньше 1000 рублей) ниже чем у терапевтов под запись. А доля дорогих кейсов (более 2000 рублей) выше. \n",
    "\n",
    "Изучим распределение убытков с разбивкой по профилям."
   ]
  },
  {
   "cell_type": "code",
   "execution_count": 35,
   "id": "c8586c53",
   "metadata": {
    "scrolled": true
   },
   "outputs": [
    {
     "name": "stdout",
     "output_type": "stream",
     "text": [
      "Терапия\n"
     ]
    },
    {
     "data": {
      "image/png": "[encoded data removed]",
      "text/plain": [
       "<Figure size 1080x360 with 3 Axes>"
      ]
     },
     "metadata": {
      "needs_background": "light"
     },
     "output_type": "display_data"
    },
    {
     "name": "stdout",
     "output_type": "stream",
     "text": [
      "Неврология\n"
     ]
    },
    {
     "data": {
      "image/png": "[encoded data removed]",
      "text/plain": [
       "<Figure size 1080x360 with 3 Axes>"
      ]
     },
     "metadata": {
      "needs_background": "light"
     },
     "output_type": "display_data"
    },
    {
     "name": "stdout",
     "output_type": "stream",
     "text": [
      "Травматология\n"
     ]
    },
    {
     "data": {
      "image/png": "[encoded data removed]",
      "text/plain": [
       "<Figure size 1080x360 with 3 Axes>"
      ]
     },
     "metadata": {
      "needs_background": "light"
     },
     "output_type": "display_data"
    },
    {
     "name": "stdout",
     "output_type": "stream",
     "text": [
      "Инфекции\n"
     ]
    },
    {
     "data": {
      "image/png": "[encoded data removed]",
      "text/plain": [
       "<Figure size 1080x360 with 3 Axes>"
      ]
     },
     "metadata": {
      "needs_background": "light"
     },
     "output_type": "display_data"
    },
    {
     "name": "stdout",
     "output_type": "stream",
     "text": [
      "Unknown\n"
     ]
    },
    {
     "data": {
      "image/png": "[encoded data removed]",
      "text/plain": [
       "<Figure size 1080x360 with 3 Axes>"
      ]
     },
     "metadata": {
      "needs_background": "light"
     },
     "output_type": "display_data"
    },
    {
     "name": "stdout",
     "output_type": "stream",
     "text": [
      "Урология\n"
     ]
    },
    {
     "data": {
      "image/png": "[encoded data removed]",
      "text/plain": [
       "<Figure size 1080x360 with 3 Axes>"
      ]
     },
     "metadata": {
      "needs_background": "light"
     },
     "output_type": "display_data"
    },
    {
     "name": "stdout",
     "output_type": "stream",
     "text": [
      "Аллергология-иммунология\n"
     ]
    },
    {
     "data": {
      "image/png": "[encoded data removed]",
      "text/plain": [
       "<Figure size 1080x360 with 3 Axes>"
      ]
     },
     "metadata": {
      "needs_background": "light"
     },
     "output_type": "display_data"
    },
    {
     "name": "stdout",
     "output_type": "stream",
     "text": [
      "Эндокринология\n"
     ]
    },
    {
     "data": {
      "image/png": "[encoded data removed]",
      "text/plain": [
       "<Figure size 1080x360 with 3 Axes>"
      ]
     },
     "metadata": {
      "needs_background": "light"
     },
     "output_type": "display_data"
    },
    {
     "name": "stdout",
     "output_type": "stream",
     "text": [
      "Кардиология\n"
     ]
    },
    {
     "data": {
      "image/png": "[encoded data removed]",
      "text/plain": [
       "<Figure size 1080x360 with 3 Axes>"
      ]
     },
     "metadata": {
      "needs_background": "light"
     },
     "output_type": "display_data"
    },
    {
     "name": "stdout",
     "output_type": "stream",
     "text": [
      "Хирургия\n"
     ]
    },
    {
     "data": {
      "image/png": "[encoded data removed]",
      "text/plain": [
       "<Figure size 1080x360 with 3 Axes>"
      ]
     },
     "metadata": {
      "needs_background": "light"
     },
     "output_type": "display_data"
    },
    {
     "name": "stdout",
     "output_type": "stream",
     "text": [
      "Гастроэнтерология\n"
     ]
    },
    {
     "data": {
      "image/png": "[encoded data removed]",
      "text/plain": [
       "<Figure size 1080x360 with 3 Axes>"
      ]
     },
     "metadata": {
      "needs_background": "light"
     },
     "output_type": "display_data"
    },
    {
     "name": "stdout",
     "output_type": "stream",
     "text": [
      "Гинекология\n"
     ]
    },
    {
     "data": {
      "image/png": "[encoded data removed]",
      "text/plain": [
       "<Figure size 1080x360 with 3 Axes>"
      ]
     },
     "metadata": {
      "needs_background": "light"
     },
     "output_type": "display_data"
    },
    {
     "name": "stdout",
     "output_type": "stream",
     "text": [
      "Дерматология\n"
     ]
    },
    {
     "data": {
      "image/png": "[encoded data removed]",
      "text/plain": [
       "<Figure size 1080x360 with 3 Axes>"
      ]
     },
     "metadata": {
      "needs_background": "light"
     },
     "output_type": "display_data"
    },
    {
     "name": "stdout",
     "output_type": "stream",
     "text": [
      "Нет\n"
     ]
    },
    {
     "data": {
      "image/png": "[encoded data removed]",
      "text/plain": [
       "<Figure size 1080x360 with 3 Axes>"
      ]
     },
     "metadata": {
      "needs_background": "light"
     },
     "output_type": "display_data"
    },
    {
     "name": "stdout",
     "output_type": "stream",
     "text": [
      "Отоларингология (ЛОР)\n"
     ]
    },
    {
     "data": {
      "image/png": "[encoded data removed]",
      "text/plain": [
       "<Figure size 1080x360 with 3 Axes>"
      ]
     },
     "metadata": {
      "needs_background": "light"
     },
     "output_type": "display_data"
    },
    {
     "name": "stdout",
     "output_type": "stream",
     "text": [
      "Психиатрия\n"
     ]
    },
    {
     "data": {
      "image/png": "[encoded data removed]",
      "text/plain": [
       "<Figure size 1080x360 with 3 Axes>"
      ]
     },
     "metadata": {
      "needs_background": "light"
     },
     "output_type": "display_data"
    },
    {
     "name": "stdout",
     "output_type": "stream",
     "text": [
      "Офтальмология\n"
     ]
    },
    {
     "data": {
      "image/png": "[encoded data removed]",
      "text/plain": [
       "<Figure size 1080x360 with 3 Axes>"
      ]
     },
     "metadata": {
      "needs_background": "light"
     },
     "output_type": "display_data"
    },
    {
     "name": "stdout",
     "output_type": "stream",
     "text": [
      "Ревматология\n"
     ]
    },
    {
     "data": {
      "image/png": "[encoded data removed]",
      "text/plain": [
       "<Figure size 1080x360 with 3 Axes>"
      ]
     },
     "metadata": {
      "needs_background": "light"
     },
     "output_type": "display_data"
    },
    {
     "name": "stdout",
     "output_type": "stream",
     "text": [
      "Стоматология\n"
     ]
    },
    {
     "data": {
      "image/png": "[encoded data removed]",
      "text/plain": [
       "<Figure size 1080x360 with 3 Axes>"
      ]
     },
     "metadata": {
      "needs_background": "light"
     },
     "output_type": "display_data"
    },
    {
     "name": "stdout",
     "output_type": "stream",
     "text": [
      "Гематология\n"
     ]
    },
    {
     "data": {
      "image/png": "[encoded data removed]",
      "text/plain": [
       "<Figure size 1080x360 with 3 Axes>"
      ]
     },
     "metadata": {
      "needs_background": "light"
     },
     "output_type": "display_data"
    }
   ],
   "source": [
    "for i in data_online['profile'].unique():\n",
    "    print(i)\n",
    "    for j, df in enumerate([data_offline,ther[~ther['is_free']],duty[~duty['is_free']]]):\n",
    "        df[(df['profile']==i)]['loss'].plot(kind='hist',\n",
    "                                           grid=True,\n",
    "                                           figsize=(15, 5),\n",
    "                                           bins=15,range=(1,15000),\n",
    "                                           ax=plt.subplot(1,3,j+1))\n",
    "    plt.show()"
   ]
  },
  {
   "cell_type": "markdown",
   "id": "2751286c",
   "metadata": {},
   "source": [
    "Изучим распределение убытков с разбивкой по категориям."
   ]
  },
  {
   "cell_type": "code",
   "execution_count": 36,
   "id": "66e80b80",
   "metadata": {},
   "outputs": [
    {
     "name": "stdout",
     "output_type": "stream",
     "text": [
      "Только телемед без оффлайн\n"
     ]
    },
    {
     "data": {
      "image/png": "[encoded data removed]",
      "text/plain": [
       "<Figure size 1080x360 with 2 Axes>"
      ]
     },
     "metadata": {
      "needs_background": "light"
     },
     "output_type": "display_data"
    },
    {
     "name": "stdout",
     "output_type": "stream",
     "text": [
      "Телемед+оффлайн прием\n"
     ]
    },
    {
     "data": {
      "image/png": "[encoded data removed]",
      "text/plain": [
       "<Figure size 1080x360 with 2 Axes>"
      ]
     },
     "metadata": {
      "needs_background": "light"
     },
     "output_type": "display_data"
    },
    {
     "name": "stdout",
     "output_type": "stream",
     "text": [
      "Оффлайн прием+телемед\n"
     ]
    },
    {
     "data": {
      "image/png": "[encoded data removed]",
      "text/plain": [
       "<Figure size 1080x360 with 2 Axes>"
      ]
     },
     "metadata": {
      "needs_background": "light"
     },
     "output_type": "display_data"
    },
    {
     "name": "stdout",
     "output_type": "stream",
     "text": [
      "Телемед+оффлайн без приема\n"
     ]
    },
    {
     "data": {
      "image/png": "[encoded data removed]",
      "text/plain": [
       "<Figure size 1080x360 with 2 Axes>"
      ]
     },
     "metadata": {
      "needs_background": "light"
     },
     "output_type": "display_data"
    }
   ],
   "source": [
    "for i in data_online['category'].unique():\n",
    "    print(i)\n",
    "    for j, df in enumerate([ther[~ther['is_free']],duty[~duty['is_free']]]):\n",
    "        df[(df['category']==i)]['loss'].plot(kind='hist',\n",
    "                                           grid=True,\n",
    "                                           figsize=(15, 5),\n",
    "                                           bins=15,range=(1,15000),\n",
    "                                           ax=plt.subplot(1,3,j+1))\n",
    "    plt.show()"
   ]
  },
  {
   "cell_type": "markdown",
   "id": "c4a98fd3",
   "metadata": {},
   "source": [
    "1. Во-первых, непонятно, что представляют собой убытки в категории \"Только телемед\".\n",
    "2. Дежурные терапевты опять показывают более объёмную долю дорогих кейсов (более 2000 рублей) в случае \"Оффлайн-прием + телемед\".\n",
    "3. Распределения категорий \"Телемед+оффлайн прием\" и \"Телемед+оффлайн без приема\" примерно одинаковы."
   ]
  },
  {
   "cell_type": "markdown",
   "id": "963a990b",
   "metadata": {},
   "source": [
    "Кейсы \"Только телемед\" с убытками:"
   ]
  },
  {
   "cell_type": "code",
   "execution_count": 37,
   "id": "82360de8",
   "metadata": {},
   "outputs": [
    {
     "data": {
      "text/html": [
       "<div>\n",
       "<style scoped>\n",
       "    .dataframe tbody tr th:only-of-type {\n",
       "        vertical-align: middle;\n",
       "    }\n",
       "\n",
       "    .dataframe tbody tr th {\n",
       "        vertical-align: top;\n",
       "    }\n",
       "\n",
       "    .dataframe thead th {\n",
       "        text-align: right;\n",
       "    }\n",
       "</style>\n",
       "<table border=\"1\" class=\"dataframe\">\n",
       "  <thead>\n",
       "    <tr style=\"text-align: right;\">\n",
       "      <th></th>\n",
       "      <th>unique_case_id</th>\n",
       "      <th>patient_id</th>\n",
       "      <th>doctor_specialty_online</th>\n",
       "      <th>start_case</th>\n",
       "      <th>region</th>\n",
       "      <th>profile</th>\n",
       "      <th>category</th>\n",
       "      <th>duration</th>\n",
       "      <th>loss</th>\n",
       "      <th>telemed_cnt</th>\n",
       "      <th>analysis_cnt</th>\n",
       "      <th>offline_cnt</th>\n",
       "      <th>vnd_cnt</th>\n",
       "      <th>hospital_cnt</th>\n",
       "      <th>unknown_cnt</th>\n",
       "      <th>is_free</th>\n",
       "    </tr>\n",
       "  </thead>\n",
       "  <tbody>\n",
       "    <tr>\n",
       "      <th>134</th>\n",
       "      <td>100870&amp;Урология&amp;0</td>\n",
       "      <td>100870</td>\n",
       "      <td>Терапевт</td>\n",
       "      <td>2021-01-27</td>\n",
       "      <td>Регионы</td>\n",
       "      <td>Урология</td>\n",
       "      <td>Только телемед без оффлайн</td>\n",
       "      <td>6</td>\n",
       "      <td>1150.0</td>\n",
       "      <td>2</td>\n",
       "      <td>0</td>\n",
       "      <td>0</td>\n",
       "      <td>0</td>\n",
       "      <td>0</td>\n",
       "      <td>0</td>\n",
       "      <td>False</td>\n",
       "    </tr>\n",
       "    <tr>\n",
       "      <th>387</th>\n",
       "      <td>103498&amp;&amp;0</td>\n",
       "      <td>103498</td>\n",
       "      <td>Врач общей практики</td>\n",
       "      <td>2021-06-14</td>\n",
       "      <td>Регионы</td>\n",
       "      <td>Unknown</td>\n",
       "      <td>Только телемед без оффлайн</td>\n",
       "      <td>68</td>\n",
       "      <td>2520.0</td>\n",
       "      <td>1</td>\n",
       "      <td>0</td>\n",
       "      <td>0</td>\n",
       "      <td>0</td>\n",
       "      <td>0</td>\n",
       "      <td>0</td>\n",
       "      <td>False</td>\n",
       "    </tr>\n",
       "    <tr>\n",
       "      <th>505</th>\n",
       "      <td>104576&amp;Нет&amp;0</td>\n",
       "      <td>104576</td>\n",
       "      <td>Врач общей практики</td>\n",
       "      <td>2021-08-02</td>\n",
       "      <td>Регионы</td>\n",
       "      <td>Нет</td>\n",
       "      <td>Только телемед без оффлайн</td>\n",
       "      <td>180</td>\n",
       "      <td>200.0</td>\n",
       "      <td>1</td>\n",
       "      <td>0</td>\n",
       "      <td>0</td>\n",
       "      <td>0</td>\n",
       "      <td>0</td>\n",
       "      <td>1</td>\n",
       "      <td>False</td>\n",
       "    </tr>\n",
       "    <tr>\n",
       "      <th>655</th>\n",
       "      <td>105905&amp;Аллергология-иммунология&amp;0</td>\n",
       "      <td>105905</td>\n",
       "      <td>Врач общей практики</td>\n",
       "      <td>2021-07-28</td>\n",
       "      <td>Регионы</td>\n",
       "      <td>Аллергология-иммунология</td>\n",
       "      <td>Только телемед без оффлайн</td>\n",
       "      <td>18</td>\n",
       "      <td>1000.0</td>\n",
       "      <td>1</td>\n",
       "      <td>0</td>\n",
       "      <td>0</td>\n",
       "      <td>0</td>\n",
       "      <td>0</td>\n",
       "      <td>0</td>\n",
       "      <td>False</td>\n",
       "    </tr>\n",
       "    <tr>\n",
       "      <th>839</th>\n",
       "      <td>107324&amp;Аллергология-иммунология&amp;0</td>\n",
       "      <td>107324</td>\n",
       "      <td>Терапевт</td>\n",
       "      <td>2021-07-14</td>\n",
       "      <td>Регионы</td>\n",
       "      <td>Аллергология-иммунология</td>\n",
       "      <td>Только телемед без оффлайн</td>\n",
       "      <td>16</td>\n",
       "      <td>770.0</td>\n",
       "      <td>1</td>\n",
       "      <td>0</td>\n",
       "      <td>0</td>\n",
       "      <td>0</td>\n",
       "      <td>0</td>\n",
       "      <td>0</td>\n",
       "      <td>False</td>\n",
       "    </tr>\n",
       "    <tr>\n",
       "      <th>967</th>\n",
       "      <td>108013&amp;Травматология&amp;1</td>\n",
       "      <td>108013</td>\n",
       "      <td>Врач общей практики</td>\n",
       "      <td>2022-01-21</td>\n",
       "      <td>Регионы</td>\n",
       "      <td>Травматология</td>\n",
       "      <td>Только телемед без оффлайн</td>\n",
       "      <td>35</td>\n",
       "      <td>5600.0</td>\n",
       "      <td>1</td>\n",
       "      <td>0</td>\n",
       "      <td>0</td>\n",
       "      <td>0</td>\n",
       "      <td>0</td>\n",
       "      <td>2</td>\n",
       "      <td>False</td>\n",
       "    </tr>\n",
       "    <tr>\n",
       "      <th>996</th>\n",
       "      <td>108205&amp;&amp;0</td>\n",
       "      <td>108205</td>\n",
       "      <td>Терапевт</td>\n",
       "      <td>2022-02-28</td>\n",
       "      <td>Регионы</td>\n",
       "      <td>Unknown</td>\n",
       "      <td>Только телемед без оффлайн</td>\n",
       "      <td>10</td>\n",
       "      <td>1200.0</td>\n",
       "      <td>3</td>\n",
       "      <td>0</td>\n",
       "      <td>0</td>\n",
       "      <td>0</td>\n",
       "      <td>0</td>\n",
       "      <td>0</td>\n",
       "      <td>False</td>\n",
       "    </tr>\n",
       "    <tr>\n",
       "      <th>1034</th>\n",
       "      <td>108485&amp;Хирургия&amp;0</td>\n",
       "      <td>108485</td>\n",
       "      <td>Врач общей практики</td>\n",
       "      <td>2021-10-25</td>\n",
       "      <td>Регионы</td>\n",
       "      <td>Хирургия</td>\n",
       "      <td>Только телемед без оффлайн</td>\n",
       "      <td>10</td>\n",
       "      <td>2000.0</td>\n",
       "      <td>1</td>\n",
       "      <td>0</td>\n",
       "      <td>0</td>\n",
       "      <td>0</td>\n",
       "      <td>0</td>\n",
       "      <td>1</td>\n",
       "      <td>False</td>\n",
       "    </tr>\n",
       "    <tr>\n",
       "      <th>1438</th>\n",
       "      <td>111287&amp;Офтальмология&amp;2</td>\n",
       "      <td>111287</td>\n",
       "      <td>Врач общей практики</td>\n",
       "      <td>2022-05-29</td>\n",
       "      <td>Регионы</td>\n",
       "      <td>Офтальмология</td>\n",
       "      <td>Только телемед без оффлайн</td>\n",
       "      <td>7</td>\n",
       "      <td>1080.0</td>\n",
       "      <td>2</td>\n",
       "      <td>0</td>\n",
       "      <td>0</td>\n",
       "      <td>0</td>\n",
       "      <td>0</td>\n",
       "      <td>1</td>\n",
       "      <td>False</td>\n",
       "    </tr>\n",
       "    <tr>\n",
       "      <th>1923</th>\n",
       "      <td>114563&amp;Кардиология&amp;1</td>\n",
       "      <td>114563</td>\n",
       "      <td>Терапевт</td>\n",
       "      <td>2021-06-24</td>\n",
       "      <td>Регионы</td>\n",
       "      <td>Кардиология</td>\n",
       "      <td>Только телемед без оффлайн</td>\n",
       "      <td>9</td>\n",
       "      <td>800.0</td>\n",
       "      <td>3</td>\n",
       "      <td>0</td>\n",
       "      <td>0</td>\n",
       "      <td>0</td>\n",
       "      <td>0</td>\n",
       "      <td>0</td>\n",
       "      <td>False</td>\n",
       "    </tr>\n",
       "    <tr>\n",
       "      <th>2387</th>\n",
       "      <td>118381&amp;&amp;0</td>\n",
       "      <td>118381</td>\n",
       "      <td>Врач общей практики</td>\n",
       "      <td>2022-01-05</td>\n",
       "      <td>Регионы</td>\n",
       "      <td>Unknown</td>\n",
       "      <td>Только телемед без оффлайн</td>\n",
       "      <td>144</td>\n",
       "      <td>10450.0</td>\n",
       "      <td>1</td>\n",
       "      <td>0</td>\n",
       "      <td>0</td>\n",
       "      <td>0</td>\n",
       "      <td>0</td>\n",
       "      <td>7</td>\n",
       "      <td>False</td>\n",
       "    </tr>\n",
       "    <tr>\n",
       "      <th>3532</th>\n",
       "      <td>125588&amp;Кардиология&amp;0</td>\n",
       "      <td>125588</td>\n",
       "      <td>Врач общей практики</td>\n",
       "      <td>2021-08-02</td>\n",
       "      <td>Регионы</td>\n",
       "      <td>Кардиология</td>\n",
       "      <td>Только телемед без оффлайн</td>\n",
       "      <td>7</td>\n",
       "      <td>800.0</td>\n",
       "      <td>2</td>\n",
       "      <td>0</td>\n",
       "      <td>0</td>\n",
       "      <td>0</td>\n",
       "      <td>0</td>\n",
       "      <td>1</td>\n",
       "      <td>False</td>\n",
       "    </tr>\n",
       "    <tr>\n",
       "      <th>3606</th>\n",
       "      <td>126352&amp;&amp;0</td>\n",
       "      <td>126352</td>\n",
       "      <td>Врач общей практики</td>\n",
       "      <td>2021-06-29</td>\n",
       "      <td>Регионы</td>\n",
       "      <td>Unknown</td>\n",
       "      <td>Только телемед без оффлайн</td>\n",
       "      <td>24</td>\n",
       "      <td>1000.0</td>\n",
       "      <td>1</td>\n",
       "      <td>0</td>\n",
       "      <td>0</td>\n",
       "      <td>0</td>\n",
       "      <td>0</td>\n",
       "      <td>1</td>\n",
       "      <td>False</td>\n",
       "    </tr>\n",
       "    <tr>\n",
       "      <th>4105</th>\n",
       "      <td>137641&amp;Гематология&amp;0</td>\n",
       "      <td>137641</td>\n",
       "      <td>Врач общей практики</td>\n",
       "      <td>2021-08-02</td>\n",
       "      <td>Регионы</td>\n",
       "      <td>Гематология</td>\n",
       "      <td>Только телемед без оффлайн</td>\n",
       "      <td>4</td>\n",
       "      <td>1235.0</td>\n",
       "      <td>1</td>\n",
       "      <td>0</td>\n",
       "      <td>0</td>\n",
       "      <td>0</td>\n",
       "      <td>0</td>\n",
       "      <td>0</td>\n",
       "      <td>False</td>\n",
       "    </tr>\n",
       "    <tr>\n",
       "      <th>4390</th>\n",
       "      <td>140240&amp;Травматология&amp;0</td>\n",
       "      <td>140240</td>\n",
       "      <td>Врач общей практики</td>\n",
       "      <td>2022-06-23</td>\n",
       "      <td>Регионы</td>\n",
       "      <td>Травматология</td>\n",
       "      <td>Только телемед без оффлайн</td>\n",
       "      <td>5</td>\n",
       "      <td>700.0</td>\n",
       "      <td>1</td>\n",
       "      <td>0</td>\n",
       "      <td>0</td>\n",
       "      <td>0</td>\n",
       "      <td>0</td>\n",
       "      <td>0</td>\n",
       "      <td>False</td>\n",
       "    </tr>\n",
       "    <tr>\n",
       "      <th>4408</th>\n",
       "      <td>140392&amp;&amp;0</td>\n",
       "      <td>140392</td>\n",
       "      <td>Терапевт</td>\n",
       "      <td>2021-07-24</td>\n",
       "      <td>Регионы</td>\n",
       "      <td>Unknown</td>\n",
       "      <td>Только телемед без оффлайн</td>\n",
       "      <td>8</td>\n",
       "      <td>500.0</td>\n",
       "      <td>1</td>\n",
       "      <td>0</td>\n",
       "      <td>0</td>\n",
       "      <td>0</td>\n",
       "      <td>0</td>\n",
       "      <td>1</td>\n",
       "      <td>False</td>\n",
       "    </tr>\n",
       "    <tr>\n",
       "      <th>4719</th>\n",
       "      <td>143264&amp;Психиатрия&amp;0</td>\n",
       "      <td>143264</td>\n",
       "      <td>Терапевт</td>\n",
       "      <td>2022-05-14</td>\n",
       "      <td>Регионы</td>\n",
       "      <td>Психиатрия</td>\n",
       "      <td>Только телемед без оффлайн</td>\n",
       "      <td>12</td>\n",
       "      <td>1600.0</td>\n",
       "      <td>1</td>\n",
       "      <td>0</td>\n",
       "      <td>0</td>\n",
       "      <td>0</td>\n",
       "      <td>0</td>\n",
       "      <td>1</td>\n",
       "      <td>False</td>\n",
       "    </tr>\n",
       "    <tr>\n",
       "      <th>4838</th>\n",
       "      <td>145397&amp;&amp;1</td>\n",
       "      <td>145397</td>\n",
       "      <td>Врач общей практики</td>\n",
       "      <td>2021-09-07</td>\n",
       "      <td>Регионы</td>\n",
       "      <td>Unknown</td>\n",
       "      <td>Только телемед без оффлайн</td>\n",
       "      <td>3</td>\n",
       "      <td>2500.0</td>\n",
       "      <td>1</td>\n",
       "      <td>0</td>\n",
       "      <td>0</td>\n",
       "      <td>0</td>\n",
       "      <td>0</td>\n",
       "      <td>0</td>\n",
       "      <td>False</td>\n",
       "    </tr>\n",
       "    <tr>\n",
       "      <th>5122</th>\n",
       "      <td>148961&amp;&amp;0</td>\n",
       "      <td>148961</td>\n",
       "      <td>Врач общей практики</td>\n",
       "      <td>2022-02-10</td>\n",
       "      <td>Регионы</td>\n",
       "      <td>Unknown</td>\n",
       "      <td>Только телемед без оффлайн</td>\n",
       "      <td>57</td>\n",
       "      <td>3770.0</td>\n",
       "      <td>1</td>\n",
       "      <td>0</td>\n",
       "      <td>0</td>\n",
       "      <td>0</td>\n",
       "      <td>0</td>\n",
       "      <td>3</td>\n",
       "      <td>False</td>\n",
       "    </tr>\n",
       "    <tr>\n",
       "      <th>6306</th>\n",
       "      <td>158786&amp;&amp;0</td>\n",
       "      <td>158786</td>\n",
       "      <td>Терапевт</td>\n",
       "      <td>2022-03-04</td>\n",
       "      <td>Регионы</td>\n",
       "      <td>Unknown</td>\n",
       "      <td>Только телемед без оффлайн</td>\n",
       "      <td>65</td>\n",
       "      <td>440.0</td>\n",
       "      <td>1</td>\n",
       "      <td>0</td>\n",
       "      <td>0</td>\n",
       "      <td>0</td>\n",
       "      <td>0</td>\n",
       "      <td>1</td>\n",
       "      <td>False</td>\n",
       "    </tr>\n",
       "    <tr>\n",
       "      <th>6406</th>\n",
       "      <td>159367&amp;Терапия&amp;Заболевания дыхательных путей&amp;0</td>\n",
       "      <td>159367</td>\n",
       "      <td>Терапевт</td>\n",
       "      <td>2021-10-07</td>\n",
       "      <td>Регионы</td>\n",
       "      <td>Терапия</td>\n",
       "      <td>Только телемед без оффлайн</td>\n",
       "      <td>7</td>\n",
       "      <td>3360.0</td>\n",
       "      <td>2</td>\n",
       "      <td>0</td>\n",
       "      <td>0</td>\n",
       "      <td>0</td>\n",
       "      <td>0</td>\n",
       "      <td>2</td>\n",
       "      <td>False</td>\n",
       "    </tr>\n",
       "    <tr>\n",
       "      <th>6648</th>\n",
       "      <td>159763&amp;Офтальмология&amp;0</td>\n",
       "      <td>159763</td>\n",
       "      <td>Врач общей практики</td>\n",
       "      <td>2021-11-06</td>\n",
       "      <td>Регионы</td>\n",
       "      <td>Офтальмология</td>\n",
       "      <td>Только телемед без оффлайн</td>\n",
       "      <td>1</td>\n",
       "      <td>2000.0</td>\n",
       "      <td>1</td>\n",
       "      <td>0</td>\n",
       "      <td>0</td>\n",
       "      <td>0</td>\n",
       "      <td>0</td>\n",
       "      <td>1</td>\n",
       "      <td>False</td>\n",
       "    </tr>\n",
       "    <tr>\n",
       "      <th>6905</th>\n",
       "      <td>163519&amp;&amp;0</td>\n",
       "      <td>163519</td>\n",
       "      <td>Врач общей практики</td>\n",
       "      <td>2022-03-29</td>\n",
       "      <td>Регионы</td>\n",
       "      <td>Unknown</td>\n",
       "      <td>Только телемед без оффлайн</td>\n",
       "      <td>7</td>\n",
       "      <td>600.0</td>\n",
       "      <td>2</td>\n",
       "      <td>0</td>\n",
       "      <td>0</td>\n",
       "      <td>0</td>\n",
       "      <td>0</td>\n",
       "      <td>0</td>\n",
       "      <td>False</td>\n",
       "    </tr>\n",
       "    <tr>\n",
       "      <th>7276</th>\n",
       "      <td>1672&amp;Травматология&amp;1</td>\n",
       "      <td>1672</td>\n",
       "      <td>Врач общей практики</td>\n",
       "      <td>2021-08-15</td>\n",
       "      <td>Москва</td>\n",
       "      <td>Травматология</td>\n",
       "      <td>Только телемед без оффлайн</td>\n",
       "      <td>28</td>\n",
       "      <td>1080.0</td>\n",
       "      <td>1</td>\n",
       "      <td>0</td>\n",
       "      <td>0</td>\n",
       "      <td>0</td>\n",
       "      <td>0</td>\n",
       "      <td>0</td>\n",
       "      <td>False</td>\n",
       "    </tr>\n",
       "    <tr>\n",
       "      <th>7617</th>\n",
       "      <td>170342&amp;Дерматология&amp;0</td>\n",
       "      <td>170342</td>\n",
       "      <td>Врач общей практики</td>\n",
       "      <td>2022-05-16</td>\n",
       "      <td>Регионы</td>\n",
       "      <td>Дерматология</td>\n",
       "      <td>Только телемед без оффлайн</td>\n",
       "      <td>2</td>\n",
       "      <td>650.0</td>\n",
       "      <td>1</td>\n",
       "      <td>0</td>\n",
       "      <td>0</td>\n",
       "      <td>0</td>\n",
       "      <td>0</td>\n",
       "      <td>1</td>\n",
       "      <td>False</td>\n",
       "    </tr>\n",
       "    <tr>\n",
       "      <th>9287</th>\n",
       "      <td>187541&amp;Травматология&amp;0</td>\n",
       "      <td>187541</td>\n",
       "      <td>Врач общей практики</td>\n",
       "      <td>2022-02-04</td>\n",
       "      <td>Санкт-Петербург</td>\n",
       "      <td>Травматология</td>\n",
       "      <td>Только телемед без оффлайн</td>\n",
       "      <td>6</td>\n",
       "      <td>1300.0</td>\n",
       "      <td>1</td>\n",
       "      <td>0</td>\n",
       "      <td>0</td>\n",
       "      <td>0</td>\n",
       "      <td>0</td>\n",
       "      <td>1</td>\n",
       "      <td>False</td>\n",
       "    </tr>\n",
       "    <tr>\n",
       "      <th>9428</th>\n",
       "      <td>189861&amp;&amp;0</td>\n",
       "      <td>189861</td>\n",
       "      <td>Терапевт</td>\n",
       "      <td>2022-03-20</td>\n",
       "      <td>Регионы</td>\n",
       "      <td>Unknown</td>\n",
       "      <td>Только телемед без оффлайн</td>\n",
       "      <td>28</td>\n",
       "      <td>1350.0</td>\n",
       "      <td>2</td>\n",
       "      <td>0</td>\n",
       "      <td>0</td>\n",
       "      <td>0</td>\n",
       "      <td>0</td>\n",
       "      <td>0</td>\n",
       "      <td>False</td>\n",
       "    </tr>\n",
       "    <tr>\n",
       "      <th>9756</th>\n",
       "      <td>193561&amp;Терапия&amp;Заболевания дыхательных путей&amp;0</td>\n",
       "      <td>193561</td>\n",
       "      <td>Врач общей практики</td>\n",
       "      <td>2022-02-08</td>\n",
       "      <td>Регионы</td>\n",
       "      <td>Терапия</td>\n",
       "      <td>Только телемед без оффлайн</td>\n",
       "      <td>16</td>\n",
       "      <td>3500.0</td>\n",
       "      <td>4</td>\n",
       "      <td>0</td>\n",
       "      <td>0</td>\n",
       "      <td>0</td>\n",
       "      <td>0</td>\n",
       "      <td>2</td>\n",
       "      <td>False</td>\n",
       "    </tr>\n",
       "    <tr>\n",
       "      <th>10319</th>\n",
       "      <td>197807&amp;&amp;1</td>\n",
       "      <td>197807</td>\n",
       "      <td>Врач общей практики</td>\n",
       "      <td>2022-01-27</td>\n",
       "      <td>Регионы</td>\n",
       "      <td>Unknown</td>\n",
       "      <td>Только телемед без оффлайн</td>\n",
       "      <td>36</td>\n",
       "      <td>501.3</td>\n",
       "      <td>1</td>\n",
       "      <td>0</td>\n",
       "      <td>0</td>\n",
       "      <td>0</td>\n",
       "      <td>0</td>\n",
       "      <td>1</td>\n",
       "      <td>False</td>\n",
       "    </tr>\n",
       "    <tr>\n",
       "      <th>10717</th>\n",
       "      <td>202203&amp;Травматология&amp;1</td>\n",
       "      <td>202203</td>\n",
       "      <td>Врач общей практики</td>\n",
       "      <td>2022-06-07</td>\n",
       "      <td>Москва</td>\n",
       "      <td>Травматология</td>\n",
       "      <td>Только телемед без оффлайн</td>\n",
       "      <td>1</td>\n",
       "      <td>2000.0</td>\n",
       "      <td>0</td>\n",
       "      <td>0</td>\n",
       "      <td>0</td>\n",
       "      <td>0</td>\n",
       "      <td>0</td>\n",
       "      <td>1</td>\n",
       "      <td>False</td>\n",
       "    </tr>\n",
       "    <tr>\n",
       "      <th>12051</th>\n",
       "      <td>23963&amp;&amp;0</td>\n",
       "      <td>23963</td>\n",
       "      <td>Терапевт</td>\n",
       "      <td>2021-02-24</td>\n",
       "      <td>Регионы</td>\n",
       "      <td>Unknown</td>\n",
       "      <td>Только телемед без оффлайн</td>\n",
       "      <td>142</td>\n",
       "      <td>7970.0</td>\n",
       "      <td>1</td>\n",
       "      <td>0</td>\n",
       "      <td>0</td>\n",
       "      <td>0</td>\n",
       "      <td>0</td>\n",
       "      <td>4</td>\n",
       "      <td>False</td>\n",
       "    </tr>\n",
       "    <tr>\n",
       "      <th>12582</th>\n",
       "      <td>40227&amp;Терапия&amp;Заболевания дыхательных путей&amp;0</td>\n",
       "      <td>40227</td>\n",
       "      <td>Врач общей практики</td>\n",
       "      <td>2022-03-31</td>\n",
       "      <td>Москва</td>\n",
       "      <td>Терапия</td>\n",
       "      <td>Только телемед без оффлайн</td>\n",
       "      <td>5</td>\n",
       "      <td>4500.0</td>\n",
       "      <td>2</td>\n",
       "      <td>0</td>\n",
       "      <td>0</td>\n",
       "      <td>0</td>\n",
       "      <td>0</td>\n",
       "      <td>1</td>\n",
       "      <td>False</td>\n",
       "    </tr>\n",
       "    <tr>\n",
       "      <th>13250</th>\n",
       "      <td>49476&amp;Терапия&amp;Заболевания дыхательных путей&amp;0</td>\n",
       "      <td>49476</td>\n",
       "      <td>Терапевт</td>\n",
       "      <td>2022-05-21</td>\n",
       "      <td>Регионы</td>\n",
       "      <td>Терапия</td>\n",
       "      <td>Только телемед без оффлайн</td>\n",
       "      <td>14</td>\n",
       "      <td>1400.0</td>\n",
       "      <td>1</td>\n",
       "      <td>0</td>\n",
       "      <td>0</td>\n",
       "      <td>0</td>\n",
       "      <td>0</td>\n",
       "      <td>2</td>\n",
       "      <td>False</td>\n",
       "    </tr>\n",
       "    <tr>\n",
       "      <th>13369</th>\n",
       "      <td>50022&amp;Терапия&amp;Заболевания дыхательных путей&amp;1</td>\n",
       "      <td>50022</td>\n",
       "      <td>Врач общей практики</td>\n",
       "      <td>2022-02-10</td>\n",
       "      <td>Регионы</td>\n",
       "      <td>Терапия</td>\n",
       "      <td>Только телемед без оффлайн</td>\n",
       "      <td>2</td>\n",
       "      <td>2500.0</td>\n",
       "      <td>1</td>\n",
       "      <td>0</td>\n",
       "      <td>0</td>\n",
       "      <td>0</td>\n",
       "      <td>0</td>\n",
       "      <td>0</td>\n",
       "      <td>False</td>\n",
       "    </tr>\n",
       "    <tr>\n",
       "      <th>14116</th>\n",
       "      <td>52665&amp;Терапия&amp;Заболевания дыхательных путей&amp;3</td>\n",
       "      <td>52665</td>\n",
       "      <td>Терапевт</td>\n",
       "      <td>2021-02-28</td>\n",
       "      <td>Регионы</td>\n",
       "      <td>Терапия</td>\n",
       "      <td>Только телемед без оффлайн</td>\n",
       "      <td>13</td>\n",
       "      <td>1600.0</td>\n",
       "      <td>1</td>\n",
       "      <td>0</td>\n",
       "      <td>0</td>\n",
       "      <td>0</td>\n",
       "      <td>0</td>\n",
       "      <td>0</td>\n",
       "      <td>False</td>\n",
       "    </tr>\n",
       "    <tr>\n",
       "      <th>14770</th>\n",
       "      <td>55159&amp;Хирургия&amp;0</td>\n",
       "      <td>55159</td>\n",
       "      <td>Врач общей практики</td>\n",
       "      <td>2021-08-08</td>\n",
       "      <td>Санкт-Петербург</td>\n",
       "      <td>Хирургия</td>\n",
       "      <td>Только телемед без оффлайн</td>\n",
       "      <td>3</td>\n",
       "      <td>1400.0</td>\n",
       "      <td>1</td>\n",
       "      <td>0</td>\n",
       "      <td>0</td>\n",
       "      <td>0</td>\n",
       "      <td>0</td>\n",
       "      <td>1</td>\n",
       "      <td>False</td>\n",
       "    </tr>\n",
       "    <tr>\n",
       "      <th>15691</th>\n",
       "      <td>64402&amp;&amp;0</td>\n",
       "      <td>64402</td>\n",
       "      <td>Терапевт</td>\n",
       "      <td>2021-06-01</td>\n",
       "      <td>Регионы</td>\n",
       "      <td>Unknown</td>\n",
       "      <td>Только телемед без оффлайн</td>\n",
       "      <td>50</td>\n",
       "      <td>1800.0</td>\n",
       "      <td>1</td>\n",
       "      <td>0</td>\n",
       "      <td>0</td>\n",
       "      <td>0</td>\n",
       "      <td>0</td>\n",
       "      <td>1</td>\n",
       "      <td>False</td>\n",
       "    </tr>\n",
       "    <tr>\n",
       "      <th>17009</th>\n",
       "      <td>75341&amp;Хирургия&amp;0</td>\n",
       "      <td>75341</td>\n",
       "      <td>Терапевт</td>\n",
       "      <td>2021-08-26</td>\n",
       "      <td>Регионы</td>\n",
       "      <td>Хирургия</td>\n",
       "      <td>Только телемед без оффлайн</td>\n",
       "      <td>5</td>\n",
       "      <td>2260.0</td>\n",
       "      <td>1</td>\n",
       "      <td>0</td>\n",
       "      <td>0</td>\n",
       "      <td>0</td>\n",
       "      <td>0</td>\n",
       "      <td>0</td>\n",
       "      <td>False</td>\n",
       "    </tr>\n",
       "    <tr>\n",
       "      <th>17290</th>\n",
       "      <td>76049&amp;&amp;0</td>\n",
       "      <td>76049</td>\n",
       "      <td>Терапевт</td>\n",
       "      <td>2021-05-15</td>\n",
       "      <td>Регионы</td>\n",
       "      <td>Unknown</td>\n",
       "      <td>Только телемед без оффлайн</td>\n",
       "      <td>250</td>\n",
       "      <td>2000.0</td>\n",
       "      <td>1</td>\n",
       "      <td>1</td>\n",
       "      <td>0</td>\n",
       "      <td>0</td>\n",
       "      <td>0</td>\n",
       "      <td>0</td>\n",
       "      <td>False</td>\n",
       "    </tr>\n",
       "    <tr>\n",
       "      <th>17558</th>\n",
       "      <td>77342&amp;Терапия&amp;Заболевания дыхательных путей&amp;0</td>\n",
       "      <td>77342</td>\n",
       "      <td>Терапевт</td>\n",
       "      <td>2021-01-16</td>\n",
       "      <td>Регионы</td>\n",
       "      <td>Терапия</td>\n",
       "      <td>Только телемед без оффлайн</td>\n",
       "      <td>4</td>\n",
       "      <td>3700.0</td>\n",
       "      <td>2</td>\n",
       "      <td>0</td>\n",
       "      <td>0</td>\n",
       "      <td>0</td>\n",
       "      <td>0</td>\n",
       "      <td>1</td>\n",
       "      <td>False</td>\n",
       "    </tr>\n",
       "    <tr>\n",
       "      <th>17712</th>\n",
       "      <td>7891&amp;&amp;1</td>\n",
       "      <td>7891</td>\n",
       "      <td>Терапевт</td>\n",
       "      <td>2021-10-12</td>\n",
       "      <td>Регионы</td>\n",
       "      <td>Unknown</td>\n",
       "      <td>Только телемед без оффлайн</td>\n",
       "      <td>22</td>\n",
       "      <td>1800.0</td>\n",
       "      <td>1</td>\n",
       "      <td>0</td>\n",
       "      <td>0</td>\n",
       "      <td>0</td>\n",
       "      <td>0</td>\n",
       "      <td>1</td>\n",
       "      <td>False</td>\n",
       "    </tr>\n",
       "    <tr>\n",
       "      <th>17804</th>\n",
       "      <td>79805&amp;&amp;0</td>\n",
       "      <td>79805</td>\n",
       "      <td>Врач общей практики</td>\n",
       "      <td>2021-06-16</td>\n",
       "      <td>Регионы</td>\n",
       "      <td>Unknown</td>\n",
       "      <td>Только телемед без оффлайн</td>\n",
       "      <td>308</td>\n",
       "      <td>640.0</td>\n",
       "      <td>1</td>\n",
       "      <td>0</td>\n",
       "      <td>0</td>\n",
       "      <td>0</td>\n",
       "      <td>0</td>\n",
       "      <td>1</td>\n",
       "      <td>False</td>\n",
       "    </tr>\n",
       "    <tr>\n",
       "      <th>18038</th>\n",
       "      <td>81480&amp;Травматология&amp;0</td>\n",
       "      <td>81480</td>\n",
       "      <td>Врач общей практики</td>\n",
       "      <td>2021-08-03</td>\n",
       "      <td>Регионы</td>\n",
       "      <td>Травматология</td>\n",
       "      <td>Только телемед без оффлайн</td>\n",
       "      <td>10</td>\n",
       "      <td>4715.0</td>\n",
       "      <td>1</td>\n",
       "      <td>0</td>\n",
       "      <td>0</td>\n",
       "      <td>0</td>\n",
       "      <td>0</td>\n",
       "      <td>3</td>\n",
       "      <td>False</td>\n",
       "    </tr>\n",
       "    <tr>\n",
       "      <th>18105</th>\n",
       "      <td>82251&amp;Терапия&amp;Заболевания дыхательных путей&amp;0</td>\n",
       "      <td>82251</td>\n",
       "      <td>Терапевт</td>\n",
       "      <td>2021-08-10</td>\n",
       "      <td>Регионы</td>\n",
       "      <td>Терапия</td>\n",
       "      <td>Только телемед без оффлайн</td>\n",
       "      <td>4</td>\n",
       "      <td>2185.0</td>\n",
       "      <td>1</td>\n",
       "      <td>0</td>\n",
       "      <td>0</td>\n",
       "      <td>0</td>\n",
       "      <td>0</td>\n",
       "      <td>1</td>\n",
       "      <td>False</td>\n",
       "    </tr>\n",
       "    <tr>\n",
       "      <th>18144</th>\n",
       "      <td>82554&amp;&amp;0</td>\n",
       "      <td>82554</td>\n",
       "      <td>Врач общей практики</td>\n",
       "      <td>2021-03-02</td>\n",
       "      <td>Регионы</td>\n",
       "      <td>Unknown</td>\n",
       "      <td>Только телемед без оффлайн</td>\n",
       "      <td>328</td>\n",
       "      <td>1710.0</td>\n",
       "      <td>1</td>\n",
       "      <td>0</td>\n",
       "      <td>0</td>\n",
       "      <td>0</td>\n",
       "      <td>0</td>\n",
       "      <td>0</td>\n",
       "      <td>False</td>\n",
       "    </tr>\n",
       "    <tr>\n",
       "      <th>18318</th>\n",
       "      <td>83947&amp;Терапия&amp;Заболевания дыхательных путей&amp;0</td>\n",
       "      <td>83947</td>\n",
       "      <td>Врач общей практики</td>\n",
       "      <td>2022-02-05</td>\n",
       "      <td>Регионы</td>\n",
       "      <td>Терапия</td>\n",
       "      <td>Только телемед без оффлайн</td>\n",
       "      <td>1</td>\n",
       "      <td>4500.0</td>\n",
       "      <td>1</td>\n",
       "      <td>0</td>\n",
       "      <td>0</td>\n",
       "      <td>0</td>\n",
       "      <td>0</td>\n",
       "      <td>1</td>\n",
       "      <td>False</td>\n",
       "    </tr>\n",
       "    <tr>\n",
       "      <th>18413</th>\n",
       "      <td>84589&amp;Терапия&amp;Анемии&amp;0</td>\n",
       "      <td>84589</td>\n",
       "      <td>Врач общей практики</td>\n",
       "      <td>2021-07-28</td>\n",
       "      <td>Регионы</td>\n",
       "      <td>Терапия</td>\n",
       "      <td>Только телемед без оффлайн</td>\n",
       "      <td>9</td>\n",
       "      <td>900.0</td>\n",
       "      <td>1</td>\n",
       "      <td>0</td>\n",
       "      <td>0</td>\n",
       "      <td>0</td>\n",
       "      <td>0</td>\n",
       "      <td>0</td>\n",
       "      <td>False</td>\n",
       "    </tr>\n",
       "    <tr>\n",
       "      <th>18739</th>\n",
       "      <td>87336&amp;Эндокринология&amp;0</td>\n",
       "      <td>87336</td>\n",
       "      <td>Терапевт</td>\n",
       "      <td>2021-05-02</td>\n",
       "      <td>Регионы</td>\n",
       "      <td>Эндокринология</td>\n",
       "      <td>Только телемед без оффлайн</td>\n",
       "      <td>26</td>\n",
       "      <td>2081.0</td>\n",
       "      <td>1</td>\n",
       "      <td>0</td>\n",
       "      <td>0</td>\n",
       "      <td>0</td>\n",
       "      <td>0</td>\n",
       "      <td>3</td>\n",
       "      <td>False</td>\n",
       "    </tr>\n",
       "    <tr>\n",
       "      <th>18955</th>\n",
       "      <td>88934&amp;&amp;0</td>\n",
       "      <td>88934</td>\n",
       "      <td>Терапевт</td>\n",
       "      <td>2021-04-13</td>\n",
       "      <td>Регионы</td>\n",
       "      <td>Unknown</td>\n",
       "      <td>Только телемед без оффлайн</td>\n",
       "      <td>173</td>\n",
       "      <td>1490.0</td>\n",
       "      <td>1</td>\n",
       "      <td>0</td>\n",
       "      <td>0</td>\n",
       "      <td>0</td>\n",
       "      <td>0</td>\n",
       "      <td>1</td>\n",
       "      <td>False</td>\n",
       "    </tr>\n",
       "    <tr>\n",
       "      <th>19324</th>\n",
       "      <td>92714&amp;&amp;0</td>\n",
       "      <td>92714</td>\n",
       "      <td>Врач общей практики</td>\n",
       "      <td>2022-02-24</td>\n",
       "      <td>Регионы</td>\n",
       "      <td>Unknown</td>\n",
       "      <td>Только телемед без оффлайн</td>\n",
       "      <td>8</td>\n",
       "      <td>550.0</td>\n",
       "      <td>1</td>\n",
       "      <td>0</td>\n",
       "      <td>0</td>\n",
       "      <td>0</td>\n",
       "      <td>0</td>\n",
       "      <td>1</td>\n",
       "      <td>False</td>\n",
       "    </tr>\n",
       "    <tr>\n",
       "      <th>19833</th>\n",
       "      <td>96772&amp;&amp;0</td>\n",
       "      <td>96772</td>\n",
       "      <td>Врач общей практики</td>\n",
       "      <td>2021-08-09</td>\n",
       "      <td>Москва</td>\n",
       "      <td>Unknown</td>\n",
       "      <td>Только телемед без оффлайн</td>\n",
       "      <td>284</td>\n",
       "      <td>1000.0</td>\n",
       "      <td>1</td>\n",
       "      <td>0</td>\n",
       "      <td>0</td>\n",
       "      <td>0</td>\n",
       "      <td>0</td>\n",
       "      <td>1</td>\n",
       "      <td>False</td>\n",
       "    </tr>\n",
       "    <tr>\n",
       "      <th>19983</th>\n",
       "      <td>98188&amp;&amp;0</td>\n",
       "      <td>98188</td>\n",
       "      <td>Врач общей практики</td>\n",
       "      <td>2021-04-29</td>\n",
       "      <td>Регионы</td>\n",
       "      <td>Unknown</td>\n",
       "      <td>Только телемед без оффлайн</td>\n",
       "      <td>224</td>\n",
       "      <td>450.0</td>\n",
       "      <td>1</td>\n",
       "      <td>0</td>\n",
       "      <td>0</td>\n",
       "      <td>0</td>\n",
       "      <td>0</td>\n",
       "      <td>1</td>\n",
       "      <td>False</td>\n",
       "    </tr>\n",
       "    <tr>\n",
       "      <th>20013</th>\n",
       "      <td>98473&amp;Травматология&amp;2</td>\n",
       "      <td>98473</td>\n",
       "      <td>Врач общей практики</td>\n",
       "      <td>2022-05-10</td>\n",
       "      <td>Регионы</td>\n",
       "      <td>Травматология</td>\n",
       "      <td>Только телемед без оффлайн</td>\n",
       "      <td>3</td>\n",
       "      <td>2000.0</td>\n",
       "      <td>1</td>\n",
       "      <td>0</td>\n",
       "      <td>0</td>\n",
       "      <td>0</td>\n",
       "      <td>0</td>\n",
       "      <td>1</td>\n",
       "      <td>False</td>\n",
       "    </tr>\n",
       "  </tbody>\n",
       "</table>\n",
       "</div>"
      ],
      "text/plain": [
       "                                       unique_case_id  patient_id  \\\n",
       "134                                 100870&Урология&0      100870   \n",
       "387                                         103498&&0      103498   \n",
       "505                                      104576&Нет&0      104576   \n",
       "655                 105905&Аллергология-иммунология&0      105905   \n",
       "839                 107324&Аллергология-иммунология&0      107324   \n",
       "967                            108013&Травматология&1      108013   \n",
       "996                                         108205&&0      108205   \n",
       "1034                                108485&Хирургия&0      108485   \n",
       "1438                           111287&Офтальмология&2      111287   \n",
       "1923                             114563&Кардиология&1      114563   \n",
       "2387                                        118381&&0      118381   \n",
       "3532                             125588&Кардиология&0      125588   \n",
       "3606                                        126352&&0      126352   \n",
       "4105                             137641&Гематология&0      137641   \n",
       "4390                           140240&Травматология&0      140240   \n",
       "4408                                        140392&&0      140392   \n",
       "4719                              143264&Психиатрия&0      143264   \n",
       "4838                                        145397&&1      145397   \n",
       "5122                                        148961&&0      148961   \n",
       "6306                                        158786&&0      158786   \n",
       "6406   159367&Терапия&Заболевания дыхательных путей&0      159367   \n",
       "6648                           159763&Офтальмология&0      159763   \n",
       "6905                                        163519&&0      163519   \n",
       "7276                             1672&Травматология&1        1672   \n",
       "7617                            170342&Дерматология&0      170342   \n",
       "9287                           187541&Травматология&0      187541   \n",
       "9428                                        189861&&0      189861   \n",
       "9756   193561&Терапия&Заболевания дыхательных путей&0      193561   \n",
       "10319                                       197807&&1      197807   \n",
       "10717                          202203&Травматология&1      202203   \n",
       "12051                                        23963&&0       23963   \n",
       "12582   40227&Терапия&Заболевания дыхательных путей&0       40227   \n",
       "13250   49476&Терапия&Заболевания дыхательных путей&0       49476   \n",
       "13369   50022&Терапия&Заболевания дыхательных путей&1       50022   \n",
       "14116   52665&Терапия&Заболевания дыхательных путей&3       52665   \n",
       "14770                                55159&Хирургия&0       55159   \n",
       "15691                                        64402&&0       64402   \n",
       "17009                                75341&Хирургия&0       75341   \n",
       "17290                                        76049&&0       76049   \n",
       "17558   77342&Терапия&Заболевания дыхательных путей&0       77342   \n",
       "17712                                         7891&&1        7891   \n",
       "17804                                        79805&&0       79805   \n",
       "18038                           81480&Травматология&0       81480   \n",
       "18105   82251&Терапия&Заболевания дыхательных путей&0       82251   \n",
       "18144                                        82554&&0       82554   \n",
       "18318   83947&Терапия&Заболевания дыхательных путей&0       83947   \n",
       "18413                          84589&Терапия&Анемии&0       84589   \n",
       "18739                          87336&Эндокринология&0       87336   \n",
       "18955                                        88934&&0       88934   \n",
       "19324                                        92714&&0       92714   \n",
       "19833                                        96772&&0       96772   \n",
       "19983                                        98188&&0       98188   \n",
       "20013                           98473&Травматология&2       98473   \n",
       "\n",
       "      doctor_specialty_online start_case           region  \\\n",
       "134                  Терапевт 2021-01-27          Регионы   \n",
       "387       Врач общей практики 2021-06-14          Регионы   \n",
       "505       Врач общей практики 2021-08-02          Регионы   \n",
       "655       Врач общей практики 2021-07-28          Регионы   \n",
       "839                  Терапевт 2021-07-14          Регионы   \n",
       "967       Врач общей практики 2022-01-21          Регионы   \n",
       "996                  Терапевт 2022-02-28          Регионы   \n",
       "1034      Врач общей практики 2021-10-25          Регионы   \n",
       "1438      Врач общей практики 2022-05-29          Регионы   \n",
       "1923                 Терапевт 2021-06-24          Регионы   \n",
       "2387      Врач общей практики 2022-01-05          Регионы   \n",
       "3532      Врач общей практики 2021-08-02          Регионы   \n",
       "3606      Врач общей практики 2021-06-29          Регионы   \n",
       "4105      Врач общей практики 2021-08-02          Регионы   \n",
       "4390      Врач общей практики 2022-06-23          Регионы   \n",
       "4408                 Терапевт 2021-07-24          Регионы   \n",
       "4719                 Терапевт 2022-05-14          Регионы   \n",
       "4838      Врач общей практики 2021-09-07          Регионы   \n",
       "5122      Врач общей практики 2022-02-10          Регионы   \n",
       "6306                 Терапевт 2022-03-04          Регионы   \n",
       "6406                 Терапевт 2021-10-07          Регионы   \n",
       "6648      Врач общей практики 2021-11-06          Регионы   \n",
       "6905      Врач общей практики 2022-03-29          Регионы   \n",
       "7276      Врач общей практики 2021-08-15           Москва   \n",
       "7617      Врач общей практики 2022-05-16          Регионы   \n",
       "9287      Врач общей практики 2022-02-04  Санкт-Петербург   \n",
       "9428                 Терапевт 2022-03-20          Регионы   \n",
       "9756      Врач общей практики 2022-02-08          Регионы   \n",
       "10319     Врач общей практики 2022-01-27          Регионы   \n",
       "10717     Врач общей практики 2022-06-07           Москва   \n",
       "12051                Терапевт 2021-02-24          Регионы   \n",
       "12582     Врач общей практики 2022-03-31           Москва   \n",
       "13250                Терапевт 2022-05-21          Регионы   \n",
       "13369     Врач общей практики 2022-02-10          Регионы   \n",
       "14116                Терапевт 2021-02-28          Регионы   \n",
       "14770     Врач общей практики 2021-08-08  Санкт-Петербург   \n",
       "15691                Терапевт 2021-06-01          Регионы   \n",
       "17009                Терапевт 2021-08-26          Регионы   \n",
       "17290                Терапевт 2021-05-15          Регионы   \n",
       "17558                Терапевт 2021-01-16          Регионы   \n",
       "17712                Терапевт 2021-10-12          Регионы   \n",
       "17804     Врач общей практики 2021-06-16          Регионы   \n",
       "18038     Врач общей практики 2021-08-03          Регионы   \n",
       "18105                Терапевт 2021-08-10          Регионы   \n",
       "18144     Врач общей практики 2021-03-02          Регионы   \n",
       "18318     Врач общей практики 2022-02-05          Регионы   \n",
       "18413     Врач общей практики 2021-07-28          Регионы   \n",
       "18739                Терапевт 2021-05-02          Регионы   \n",
       "18955                Терапевт 2021-04-13          Регионы   \n",
       "19324     Врач общей практики 2022-02-24          Регионы   \n",
       "19833     Врач общей практики 2021-08-09           Москва   \n",
       "19983     Врач общей практики 2021-04-29          Регионы   \n",
       "20013     Врач общей практики 2022-05-10          Регионы   \n",
       "\n",
       "                        profile                    category  duration  \\\n",
       "134                    Урология  Только телемед без оффлайн         6   \n",
       "387                     Unknown  Только телемед без оффлайн        68   \n",
       "505                         Нет  Только телемед без оффлайн       180   \n",
       "655    Аллергология-иммунология  Только телемед без оффлайн        18   \n",
       "839    Аллергология-иммунология  Только телемед без оффлайн        16   \n",
       "967               Травматология  Только телемед без оффлайн        35   \n",
       "996                     Unknown  Только телемед без оффлайн        10   \n",
       "1034                   Хирургия  Только телемед без оффлайн        10   \n",
       "1438              Офтальмология  Только телемед без оффлайн         7   \n",
       "1923                Кардиология  Только телемед без оффлайн         9   \n",
       "2387                    Unknown  Только телемед без оффлайн       144   \n",
       "3532                Кардиология  Только телемед без оффлайн         7   \n",
       "3606                    Unknown  Только телемед без оффлайн        24   \n",
       "4105                Гематология  Только телемед без оффлайн         4   \n",
       "4390              Травматология  Только телемед без оффлайн         5   \n",
       "4408                    Unknown  Только телемед без оффлайн         8   \n",
       "4719                 Психиатрия  Только телемед без оффлайн        12   \n",
       "4838                    Unknown  Только телемед без оффлайн         3   \n",
       "5122                    Unknown  Только телемед без оффлайн        57   \n",
       "6306                    Unknown  Только телемед без оффлайн        65   \n",
       "6406                    Терапия  Только телемед без оффлайн         7   \n",
       "6648              Офтальмология  Только телемед без оффлайн         1   \n",
       "6905                    Unknown  Только телемед без оффлайн         7   \n",
       "7276              Травматология  Только телемед без оффлайн        28   \n",
       "7617               Дерматология  Только телемед без оффлайн         2   \n",
       "9287              Травматология  Только телемед без оффлайн         6   \n",
       "9428                    Unknown  Только телемед без оффлайн        28   \n",
       "9756                    Терапия  Только телемед без оффлайн        16   \n",
       "10319                   Unknown  Только телемед без оффлайн        36   \n",
       "10717             Травматология  Только телемед без оффлайн         1   \n",
       "12051                   Unknown  Только телемед без оффлайн       142   \n",
       "12582                   Терапия  Только телемед без оффлайн         5   \n",
       "13250                   Терапия  Только телемед без оффлайн        14   \n",
       "13369                   Терапия  Только телемед без оффлайн         2   \n",
       "14116                   Терапия  Только телемед без оффлайн        13   \n",
       "14770                  Хирургия  Только телемед без оффлайн         3   \n",
       "15691                   Unknown  Только телемед без оффлайн        50   \n",
       "17009                  Хирургия  Только телемед без оффлайн         5   \n",
       "17290                   Unknown  Только телемед без оффлайн       250   \n",
       "17558                   Терапия  Только телемед без оффлайн         4   \n",
       "17712                   Unknown  Только телемед без оффлайн        22   \n",
       "17804                   Unknown  Только телемед без оффлайн       308   \n",
       "18038             Травматология  Только телемед без оффлайн        10   \n",
       "18105                   Терапия  Только телемед без оффлайн         4   \n",
       "18144                   Unknown  Только телемед без оффлайн       328   \n",
       "18318                   Терапия  Только телемед без оффлайн         1   \n",
       "18413                   Терапия  Только телемед без оффлайн         9   \n",
       "18739            Эндокринология  Только телемед без оффлайн        26   \n",
       "18955                   Unknown  Только телемед без оффлайн       173   \n",
       "19324                   Unknown  Только телемед без оффлайн         8   \n",
       "19833                   Unknown  Только телемед без оффлайн       284   \n",
       "19983                   Unknown  Только телемед без оффлайн       224   \n",
       "20013             Травматология  Только телемед без оффлайн         3   \n",
       "\n",
       "          loss  telemed_cnt  analysis_cnt  offline_cnt  vnd_cnt  hospital_cnt  \\\n",
       "134     1150.0            2             0            0        0             0   \n",
       "387     2520.0            1             0            0        0             0   \n",
       "505      200.0            1             0            0        0             0   \n",
       "655     1000.0            1             0            0        0             0   \n",
       "839      770.0            1             0            0        0             0   \n",
       "967     5600.0            1             0            0        0             0   \n",
       "996     1200.0            3             0            0        0             0   \n",
       "1034    2000.0            1             0            0        0             0   \n",
       "1438    1080.0            2             0            0        0             0   \n",
       "1923     800.0            3             0            0        0             0   \n",
       "2387   10450.0            1             0            0        0             0   \n",
       "3532     800.0            2             0            0        0             0   \n",
       "3606    1000.0            1             0            0        0             0   \n",
       "4105    1235.0            1             0            0        0             0   \n",
       "4390     700.0            1             0            0        0             0   \n",
       "4408     500.0            1             0            0        0             0   \n",
       "4719    1600.0            1             0            0        0             0   \n",
       "4838    2500.0            1             0            0        0             0   \n",
       "5122    3770.0            1             0            0        0             0   \n",
       "6306     440.0            1             0            0        0             0   \n",
       "6406    3360.0            2             0            0        0             0   \n",
       "6648    2000.0            1             0            0        0             0   \n",
       "6905     600.0            2             0            0        0             0   \n",
       "7276    1080.0            1             0            0        0             0   \n",
       "7617     650.0            1             0            0        0             0   \n",
       "9287    1300.0            1             0            0        0             0   \n",
       "9428    1350.0            2             0            0        0             0   \n",
       "9756    3500.0            4             0            0        0             0   \n",
       "10319    501.3            1             0            0        0             0   \n",
       "10717   2000.0            0             0            0        0             0   \n",
       "12051   7970.0            1             0            0        0             0   \n",
       "12582   4500.0            2             0            0        0             0   \n",
       "13250   1400.0            1             0            0        0             0   \n",
       "13369   2500.0            1             0            0        0             0   \n",
       "14116   1600.0            1             0            0        0             0   \n",
       "14770   1400.0            1             0            0        0             0   \n",
       "15691   1800.0            1             0            0        0             0   \n",
       "17009   2260.0            1             0            0        0             0   \n",
       "17290   2000.0            1             1            0        0             0   \n",
       "17558   3700.0            2             0            0        0             0   \n",
       "17712   1800.0            1             0            0        0             0   \n",
       "17804    640.0            1             0            0        0             0   \n",
       "18038   4715.0            1             0            0        0             0   \n",
       "18105   2185.0            1             0            0        0             0   \n",
       "18144   1710.0            1             0            0        0             0   \n",
       "18318   4500.0            1             0            0        0             0   \n",
       "18413    900.0            1             0            0        0             0   \n",
       "18739   2081.0            1             0            0        0             0   \n",
       "18955   1490.0            1             0            0        0             0   \n",
       "19324    550.0            1             0            0        0             0   \n",
       "19833   1000.0            1             0            0        0             0   \n",
       "19983    450.0            1             0            0        0             0   \n",
       "20013   2000.0            1             0            0        0             0   \n",
       "\n",
       "       unknown_cnt  is_free  \n",
       "134              0    False  \n",
       "387              0    False  \n",
       "505              1    False  \n",
       "655              0    False  \n",
       "839              0    False  \n",
       "967              2    False  \n",
       "996              0    False  \n",
       "1034             1    False  \n",
       "1438             1    False  \n",
       "1923             0    False  \n",
       "2387             7    False  \n",
       "3532             1    False  \n",
       "3606             1    False  \n",
       "4105             0    False  \n",
       "4390             0    False  \n",
       "4408             1    False  \n",
       "4719             1    False  \n",
       "4838             0    False  \n",
       "5122             3    False  \n",
       "6306             1    False  \n",
       "6406             2    False  \n",
       "6648             1    False  \n",
       "6905             0    False  \n",
       "7276             0    False  \n",
       "7617             1    False  \n",
       "9287             1    False  \n",
       "9428             0    False  \n",
       "9756             2    False  \n",
       "10319            1    False  \n",
       "10717            1    False  \n",
       "12051            4    False  \n",
       "12582            1    False  \n",
       "13250            2    False  \n",
       "13369            0    False  \n",
       "14116            0    False  \n",
       "14770            1    False  \n",
       "15691            1    False  \n",
       "17009            0    False  \n",
       "17290            0    False  \n",
       "17558            1    False  \n",
       "17712            1    False  \n",
       "17804            1    False  \n",
       "18038            3    False  \n",
       "18105            1    False  \n",
       "18144            0    False  \n",
       "18318            1    False  \n",
       "18413            0    False  \n",
       "18739            3    False  \n",
       "18955            1    False  \n",
       "19324            1    False  \n",
       "19833            1    False  \n",
       "19983            1    False  \n",
       "20013            1    False  "
      ]
     },
     "execution_count": 37,
     "metadata": {},
     "output_type": "execute_result"
    }
   ],
   "source": [
    "data_online[~data_online['is_free']&(data_online['category']=='Только телемед без оффлайн')]"
   ]
  },
  {
   "cell_type": "markdown",
   "id": "40031cc5",
   "metadata": {},
   "source": [
    "Посмотрим, есть ли корреляция между продолжительностью и убытками кейсов."
   ]
  },
  {
   "cell_type": "code",
   "execution_count": 38,
   "id": "4bec877a",
   "metadata": {},
   "outputs": [
    {
     "data": {
      "text/plain": [
       "<AxesSubplot:xlabel='loss', ylabel='duration'>"
      ]
     },
     "execution_count": 38,
     "metadata": {},
     "output_type": "execute_result"
    },
    {
     "data": {
      "image/png": "[encoded data removed]",
      "text/plain": [
       "<Figure size 1080x360 with 2 Axes>"
      ]
     },
     "metadata": {
      "needs_background": "light"
     },
     "output_type": "display_data"
    }
   ],
   "source": [
    "data_online.plot(x='loss', y='duration', kind='scatter',figsize=(15,5),ax=plt.subplot(1,2,1))\n",
    "data_offline.plot(x='loss', y='duration', kind='scatter',ax=plt.subplot(1,2,2))"
   ]
  },
  {
   "cell_type": "code",
   "execution_count": 39,
   "id": "bddd8e14",
   "metadata": {},
   "outputs": [
    {
     "data": {
      "text/plain": [
       "0.39957884388198994"
      ]
     },
     "execution_count": 39,
     "metadata": {},
     "output_type": "execute_result"
    }
   ],
   "source": [
    "data_online['loss'].corr(data_online['duration'])"
   ]
  },
  {
   "cell_type": "code",
   "execution_count": 40,
   "id": "b8ff0d3f",
   "metadata": {},
   "outputs": [
    {
     "data": {
      "text/plain": [
       "0.3916960871330832"
      ]
     },
     "execution_count": 40,
     "metadata": {},
     "output_type": "execute_result"
    }
   ],
   "source": [
    "data_offline['loss'].corr(data_offline['duration'])"
   ]
  },
  {
   "cell_type": "markdown",
   "id": "10a1e9fc",
   "metadata": {},
   "source": [
    "В онлайн-кейсах линейная зависимость прослеживается, но слабая. В оффлайн-кейсах зависимость ещё слабее."
   ]
  },
  {
   "cell_type": "code",
   "execution_count": 41,
   "id": "338b4e66",
   "metadata": {},
   "outputs": [
    {
     "data": {
      "text/plain": [
       "<AxesSubplot:xlabel='loss', ylabel='offline_cnt'>"
      ]
     },
     "execution_count": 41,
     "metadata": {},
     "output_type": "execute_result"
    },
    {
     "data": {
      "image/png": "[encoded data removed]",
      "text/plain": [
       "<Figure size 1080x360 with 3 Axes>"
      ]
     },
     "metadata": {
      "needs_background": "light"
     },
     "output_type": "display_data"
    }
   ],
   "source": [
    "data_online.plot(x='loss', y='offline_cnt', kind='scatter',figsize=(15,5),ax=plt.subplot(1,3,1))\n",
    "ther.plot(x='loss', y='offline_cnt', kind='scatter',figsize=(15,5),ax=plt.subplot(1,3,2))\n",
    "duty.plot(x='loss', y='offline_cnt', kind='scatter',figsize=(15,5),ax=plt.subplot(1,3,3))"
   ]
  },
  {
   "cell_type": "code",
   "execution_count": 42,
   "id": "0524659c",
   "metadata": {},
   "outputs": [
    {
     "data": {
      "text/plain": [
       "0.5972368970379395"
      ]
     },
     "execution_count": 42,
     "metadata": {},
     "output_type": "execute_result"
    }
   ],
   "source": [
    "data_online['loss'].corr(data_online['offline_cnt'])"
   ]
  },
  {
   "cell_type": "code",
   "execution_count": 43,
   "id": "20971d12",
   "metadata": {},
   "outputs": [
    {
     "data": {
      "text/plain": [
       "<AxesSubplot:xlabel='loss', ylabel='analysis_cnt'>"
      ]
     },
     "execution_count": 43,
     "metadata": {},
     "output_type": "execute_result"
    },
    {
     "data": {
      "image/png": "[encoded data removed]",
      "text/plain": [
       "<Figure size 1080x360 with 3 Axes>"
      ]
     },
     "metadata": {
      "needs_background": "light"
     },
     "output_type": "display_data"
    }
   ],
   "source": [
    "data_online.plot(x='loss', y='analysis_cnt', kind='scatter',figsize=(15,5),ax=plt.subplot(1,3,1))\n",
    "ther.plot(x='loss', y='analysis_cnt', kind='scatter',figsize=(15,5),ax=plt.subplot(1,3,2))\n",
    "duty.plot(x='loss', y='analysis_cnt', kind='scatter',figsize=(15,5),ax=plt.subplot(1,3,3))"
   ]
  },
  {
   "cell_type": "code",
   "execution_count": 44,
   "id": "522b1a4d",
   "metadata": {},
   "outputs": [
    {
     "data": {
      "text/plain": [
       "0.63730959951118"
      ]
     },
     "execution_count": 44,
     "metadata": {},
     "output_type": "execute_result"
    }
   ],
   "source": [
    "data_online['loss'].corr(data_online['analysis_cnt'])"
   ]
  },
  {
   "cell_type": "markdown",
   "id": "1df6cd17",
   "metadata": {},
   "source": [
    "Зато существует достаточно явно прослеживается линейная зависимость между количеством приёмов, количеством анализов и манипуляций и убытками в онлайн-кейсах."
   ]
  },
  {
   "cell_type": "markdown",
   "id": "73d1fecf",
   "metadata": {},
   "source": [
    "## Статистический анализ"
   ]
  },
  {
   "cell_type": "markdown",
   "id": "181dae6f",
   "metadata": {},
   "source": [
    "Проведём статистический анализ и проверим две гипотезы:\n",
    "1. Действительно ли средний чек терапевтов по записи меньше среднего чека дежурных врачей.\n",
    "2. Возможно, на данные выборки влияет геолокация пациентов - проверим гипотезу в разрезе пациентов Москвы."
   ]
  },
  {
   "cell_type": "markdown",
   "id": "494537ba",
   "metadata": {},
   "source": [
    "### Гипотеза 1\n",
    "\n",
    "Проверим, различается ли средний чек пациентов терапевтов по записи и дежурных врачей.\n",
    "\n",
    "Сформулируем **нулевую гипотезу**.\n",
    "\n",
    "    H₀: Средний чек у пациентов терапевтов по записи и дежурных врачей одинаков.\n",
    "\n",
    "**Альтерантивная гипотеза**.\n",
    "    \n",
    "    H₁: Средний чек у пациентов терапевтов по записи меньше среднего чека дежурных врачей.\n",
    "    \n",
    "Проверим, следует ли отклонять нулевую гипотезу - проведём Т-тест для независимых выборок.\n",
    "\n",
    "В качестве значения уровня статистической значимости возьмём 5%."
   ]
  },
  {
   "cell_type": "code",
   "execution_count": 45,
   "id": "92e46d0e",
   "metadata": {},
   "outputs": [
    {
     "name": "stdout",
     "output_type": "stream",
     "text": [
      "Количество кейсов Терапевтов: 1542\n",
      "Средний чек: 4006.2656225680953\n",
      "Выборочная дисперсия: 10771805.3238493\n",
      "Выборочное стандартное отклонение: 3282.042858319998\n",
      "\n",
      "Количество кейсов Дежурных: 3074\n",
      "Средний чек: 4161.3325569290855\n",
      "Выборочная дисперсия: 11190373.648142371\n",
      "Выборочное стандартное отклонение: 3345.201585576327\n",
      "\n"
     ]
    }
   ],
   "source": [
    "print('Количество кейсов Терапевтов:',ther[~ther['is_free']]['loss'].count())\n",
    "print('Средний чек:',ther[~ther['is_free']]['loss'].mean())\n",
    "print('Выборочная дисперсия:',numpy.var(ther[~ther['is_free']]['loss'], ddof=1))\n",
    "print('Выборочное стандартное отклонение:',numpy.std(ther[~ther['is_free']]['loss'], ddof=1))\n",
    "print()\n",
    "print('Количество кейсов Дежурных:',duty[~duty['is_free']]['loss'].count())\n",
    "print('Средний чек:',duty[~duty['is_free']]['loss'].mean())\n",
    "print('Выборочная дисперсия:',numpy.var(duty[~duty['is_free']]['loss'], ddof=1))\n",
    "print('Выборочное стандартное отклонение:',numpy.std(duty[~duty['is_free']]['loss'], ddof=1))\n",
    "print()"
   ]
  },
  {
   "cell_type": "code",
   "execution_count": 46,
   "id": "e98bed67",
   "metadata": {},
   "outputs": [
    {
     "name": "stdout",
     "output_type": "stream",
     "text": [
      "p-значение: 0.13503070205608927\n",
      "Не отвергаем нулевую гипотезу\n"
     ]
    }
   ],
   "source": [
    "from scipy import stats as st\n",
    "alpha = .05 # уровень статистической значимости\n",
    "\n",
    "results = st.ttest_ind(\n",
    "    ther[~ther['is_free']]['loss'],\n",
    "    duty[~duty['is_free']]['loss'])\n",
    "\n",
    "print('p-значение:', results.pvalue)\n",
    "\n",
    "if results.pvalue < alpha:\n",
    "    print(\"Отвергаем нулевую гипотезу\")\n",
    "else:\n",
    "    print(\"Не отвергаем нулевую гипотезу\")"
   ]
  },
  {
   "cell_type": "markdown",
   "id": "6cb7005f",
   "metadata": {},
   "source": [
    "Отвергнуть нулевую гипотезу не удалось. Значит, мы не можем утверждать, что средние чеки отличаются."
   ]
  },
  {
   "cell_type": "markdown",
   "id": "5d916000",
   "metadata": {},
   "source": [
    "### Гипотеза 2\n",
    "\n",
    "Проверим, различается ли средний чек пациентов терапевтов по записи и дежурных врачей в Москве.\n",
    "\n",
    "Сформулируем **нулевую гипотезу**.\n",
    "\n",
    "    H₀: Средний чек у пациентов терапевтов по записи и дежурных врачей в Москве одинаков.\n",
    "\n",
    "**Альтерантивная гипотеза**.\n",
    "    \n",
    "    H₁: Средний чек у пациентов терапевтов по записи в Москве меньше среднего чека дежурных врачей.\n",
    "    \n",
    "Проверим, следует ли отклонять нулевую гипотезу - проведём Т-тест для независимых выборок.\n",
    "\n",
    "В качестве значения уровня статистической значимости возьмём 5%."
   ]
  },
  {
   "cell_type": "code",
   "execution_count": 47,
   "id": "6701b352",
   "metadata": {},
   "outputs": [
    {
     "name": "stdout",
     "output_type": "stream",
     "text": [
      "Количество кейсов Терапевтов в Москве: 707\n",
      "Средний чек: 4453.216251768034\n",
      "Выборочная дисперсия: 11312582.468522059\n",
      "Выборочное стандартное отклонение: 3363.4182714200233\n",
      "\n",
      "Количество кейсов Дежурных в Москве: 1198\n",
      "Средний чек: 4792.222362270452\n",
      "Выборочная дисперсия: 13353027.554811902\n",
      "Выборочное стандартное отклонение: 3654.1794639579352\n",
      "\n"
     ]
    }
   ],
   "source": [
    "print('Количество кейсов Терапевтов в Москве:',ther[(~ther['is_free'])&(ther['region']=='Москва')]['loss'].count())\n",
    "print('Средний чек:',ther[(~ther['is_free'])&(ther['region']=='Москва')]['loss'].mean())\n",
    "print('Выборочная дисперсия:',numpy.var(ther[(~ther['is_free'])&(ther['region']=='Москва')]['loss'], ddof=1))\n",
    "print('Выборочное стандартное отклонение:',numpy.std(ther[(~ther['is_free'])&(ther['region']=='Москва')]['loss'], ddof=1))\n",
    "print()\n",
    "print('Количество кейсов Дежурных в Москве:',duty[(~duty['is_free'])&(duty['region']=='Москва')]['loss'].count())\n",
    "print('Средний чек:',duty[(~duty['is_free'])&(duty['region']=='Москва')]['loss'].mean())\n",
    "print('Выборочная дисперсия:',numpy.var(duty[(~duty['is_free'])&(duty['region']=='Москва')]['loss'], ddof=1))\n",
    "print('Выборочное стандартное отклонение:',numpy.std(duty[(~duty['is_free'])&(duty['region']=='Москва')]['loss'], ddof=1))\n",
    "print()"
   ]
  },
  {
   "cell_type": "code",
   "execution_count": 48,
   "id": "81063232",
   "metadata": {},
   "outputs": [
    {
     "name": "stdout",
     "output_type": "stream",
     "text": [
      "p-значение: 0.04413943375084426\n",
      "Отвергаем нулевую гипотезу\n"
     ]
    }
   ],
   "source": [
    "from scipy import stats as st\n",
    "alpha = .05 # уровень статистической значимости\n",
    "\n",
    "results = st.ttest_ind(\n",
    "    ther[(~ther['is_free'])&(ther['region']=='Москва')]['loss'],\n",
    "    duty[(~duty['is_free'])&(duty['region']=='Москва')]['loss'])\n",
    "\n",
    "print('p-значение:', results.pvalue)\n",
    "\n",
    "if results.pvalue < alpha:\n",
    "    print(\"Отвергаем нулевую гипотезу\")\n",
    "else:\n",
    "    print(\"Не отвергаем нулевую гипотезу\")"
   ]
  },
  {
   "cell_type": "markdown",
   "id": "94f36179",
   "metadata": {},
   "source": [
    "Наши наблюдения исследовательского анализа подтвердились - средние чеки по дежурным и терапевтам в Москве действительно отличаются."
   ]
  },
  {
   "cell_type": "markdown",
   "id": "5864c867",
   "metadata": {},
   "source": [
    "### Гипотеза 3\n",
    "\n",
    "Проверим, различается ли средний чек пациентов терапевтов по записи и дежурных врачей в Москве.\n",
    "\n",
    "Сформулируем **нулевую гипотезу**.\n",
    "\n",
    "    H₀: Средняя длительность кейсов у пациентов терапевтов по записи и дежурных врачей в Москве одинакова.\n",
    "\n",
    "**Альтерантивная гипотеза**.\n",
    "    \n",
    "    H₁: Средняя длительность кейсов у пациентов терапевтов по записи в Москве больше средней длительности кейсов дежурных врачей.\n",
    "    \n",
    "Проверим, следует ли отклонять нулевую гипотезу - проведём Т-тест для независимых выборок.\n",
    "\n",
    "В качестве значения уровня статистической значимости возьмём 5%."
   ]
  },
  {
   "cell_type": "code",
   "execution_count": 51,
   "id": "74853ec2",
   "metadata": {},
   "outputs": [
    {
     "name": "stdout",
     "output_type": "stream",
     "text": [
      "Количество кейсов Терапевтов в Москве: 7583\n",
      "Средняя длительность: 9.175524198865885\n",
      "Выборочная дисперсия: 1227.382930267974\n",
      "Выборочное стандартное отклонение: 35.03402532207759\n",
      "\n",
      "Количество кейсов Дежурных в Москве: 12252\n",
      "Средняя длительность: 10.23073783872021\n",
      "Выборочная дисперсия: 1559.7262839058062\n",
      "Выборочное стандартное отклонение: 39.493370125956666\n",
      "\n"
     ]
    }
   ],
   "source": [
    "print('Количество кейсов Терапевтов в Москве:',ther['duration'].count())\n",
    "print('Средняя длительность:',ther['duration'].mean())\n",
    "print('Выборочная дисперсия:',numpy.var(ther['duration'], ddof=1))\n",
    "print('Выборочное стандартное отклонение:',numpy.std(ther['duration'], ddof=1))\n",
    "print()\n",
    "print('Количество кейсов Дежурных в Москве:',duty['duration'].count())\n",
    "print('Средняя длительность:',duty['duration'].mean())\n",
    "print('Выборочная дисперсия:',numpy.var(duty['duration'], ddof=1))\n",
    "print('Выборочное стандартное отклонение:',numpy.std(duty['duration'], ddof=1))\n",
    "print()"
   ]
  },
  {
   "cell_type": "code",
   "execution_count": 52,
   "id": "e1f7cd52",
   "metadata": {},
   "outputs": [
    {
     "name": "stdout",
     "output_type": "stream",
     "text": [
      "p-значение: 0.056407770380606896\n",
      "Не отвергаем нулевую гипотезу\n"
     ]
    }
   ],
   "source": [
    "alpha = .05 # уровень статистической значимости\n",
    "\n",
    "results = st.ttest_ind(\n",
    "    ther['duration'],\n",
    "    duty['duration'])\n",
    "\n",
    "print('p-значение:', results.pvalue)\n",
    "\n",
    "if results.pvalue < alpha:\n",
    "    print(\"Отвергаем нулевую гипотезу\")\n",
    "else:\n",
    "    print(\"Не отвергаем нулевую гипотезу\")"
   ]
  },
  {
   "cell_type": "markdown",
   "id": "bcd2553c",
   "metadata": {},
   "source": [
    "## Вывод\n",
    "\n",
    "Итак, в ходе проекта мы:\n",
    "- получили данные по оффлайн- и онлайн-кейсам;\n",
    "- осмотрели данные на предмет пропусков, исправили типы данных в столбцах с датами на корректные;\n",
    "- разделили онлайн-кейсы на кейсы дежурных терапевтов и кейсы терапевтов под запись;\n",
    "- провели исследовательский анализ, изучили характеристики положения данных и выяснили, что:\n",
    "        - убытки по платным онлайн-кейсам выше убытков оффлайн-кейсов;\n",
    "        - онлайн-кейсы менее длительные (11 дней) чем оффлайн-кейсы (18 дней);\n",
    "        - у терапевтов по записи доля бесплатных кейсов больше чем у дежурных врачей.\n",
    "- проверили выдвинутые гипотезы на статистических тестах и сделали вывод, что, несмотря на некоторые отличия, однозначно опровергнуть однородность платных кейсов терапевтов по записи и дежурных терапевтов нельзя, однако для пациентов Москвы средний чек у дежурных терапевтов выше, чем у терапевтов по записи. \n",
    "- таким образом, **терапевты по записи выглядят более эффективными по сравнению с дежурными врачами - их кейсы короче, доля бесплатнеых кейсов выше на 5%, а платные кейсы приносят меньше убытков, что особенно сильно прослеживается в Москве.**"
   ]
  },
  {
   "cell_type": "code",
   "execution_count": null,
   "id": "4e4752d9",
   "metadata": {},
   "outputs": [],
   "source": []
  }
 ],
 "metadata": {
  "kernelspec": {
   "display_name": "Python 3",
   "language": "python",
   "name": "python3"
  },
  "language_info": {
   "codemirror_mode": {
    "name": "ipython",
    "version": 3
   },
   "file_extension": ".py",
   "mimetype": "text/x-python",
   "name": "python",
   "nbconvert_exporter": "python",
   "pygments_lexer": "ipython3",
   "version": "3.8.8"
  }
 },
 "nbformat": 4,
 "nbformat_minor": 5
}
